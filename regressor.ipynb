{
  "cells": [
    {
      "cell_type": "markdown",
      "metadata": {
        "id": "view-in-github",
        "colab_type": "text"
      },
      "source": [
        "<a href=\"https://colab.research.google.com/github/Nyillu/Algorithms_Big_Data_Zavadskaya/blob/main/regressor.ipynb\" target=\"_parent\"><img src=\"https://colab.research.google.com/assets/colab-badge.svg\" alt=\"Open In Colab\"/></a>"
      ]
    },
    {
      "cell_type": "markdown",
      "id": "0b3bffb0-2d2e-420e-a8e9-7665a299d4e9",
      "metadata": {
        "id": "0b3bffb0-2d2e-420e-a8e9-7665a299d4e9"
      },
      "source": [
        "# Regressor\n",
        "\n",
        "This notebook presents work with regression models to predict target value - `gap`.\n",
        "\n",
        "The following models were used:\n",
        "\n",
        "- [ ] LightGBM\n",
        "- [ ] XGBoost\n",
        "- [ ] Gradient Boosting\n",
        "\n",
        "\n",
        "This code is made to be run locally within current repository. If you work in Google Colab, adjust the path to the `data_normalized.csv` file accordingly and install the libraries provided in the *requirements*."
      ]
    },
    {
      "cell_type": "markdown",
      "id": "1c36ac79-172f-461f-88ae-2fc130f64369",
      "metadata": {
        "id": "1c36ac79-172f-461f-88ae-2fc130f64369"
      },
      "source": [
        "# Requirements"
      ]
    },
    {
      "cell_type": "code",
      "execution_count": null,
      "id": "d877e71b-5911-4a9c-b094-f8ba8e967496",
      "metadata": {
        "id": "d877e71b-5911-4a9c-b094-f8ba8e967496",
        "outputId": "f7cb188d-d181-4b95-9962-3e74b1814488"
      },
      "outputs": [
        {
          "name": "stdout",
          "output_type": "stream",
          "text": [
            "Defaulting to user installation because normal site-packages is not writeable\n",
            "Requirement already satisfied: lightgbm in /home/student/.local/lib/python3.10/site-packages (4.3.0)\n",
            "Requirement already satisfied: scipy in /home/student/.local/lib/python3.10/site-packages (from lightgbm) (1.12.0)\n",
            "Requirement already satisfied: numpy in /usr/local/lib/python3.10/dist-packages (from lightgbm) (1.23.4)\n"
          ]
        }
      ],
      "source": [
        "!pip install lightgbm"
      ]
    },
    {
      "cell_type": "code",
      "execution_count": null,
      "id": "3e5c2dd2-1c03-4f85-a474-4304466d4d3f",
      "metadata": {
        "id": "3e5c2dd2-1c03-4f85-a474-4304466d4d3f",
        "outputId": "1f10118d-936f-489d-f7f3-c43ef8f75395"
      },
      "outputs": [
        {
          "name": "stdout",
          "output_type": "stream",
          "text": [
            "Defaulting to user installation because normal site-packages is not writeable\n",
            "Requirement already satisfied: xgboost in /home/student/.local/lib/python3.10/site-packages (2.0.3)\n",
            "Requirement already satisfied: scipy in /home/student/.local/lib/python3.10/site-packages (from xgboost) (1.12.0)\n",
            "Requirement already satisfied: numpy in /usr/local/lib/python3.10/dist-packages (from xgboost) (1.23.4)\n"
          ]
        }
      ],
      "source": [
        "!pip install xgboost"
      ]
    },
    {
      "cell_type": "code",
      "execution_count": null,
      "id": "5ac82bbc-af87-44f0-889b-5b8605b57b33",
      "metadata": {
        "id": "5ac82bbc-af87-44f0-889b-5b8605b57b33"
      },
      "outputs": [],
      "source": [
        "import pandas as pd\n",
        "import numpy as np\n",
        "import matplotlib.pyplot as plt\n",
        "import seaborn as sns\n",
        "from sklearn.model_selection import cross_val_score, train_test_split\n",
        "from sklearn.ensemble import GradientBoostingRegressor\n",
        "import lightgbm as lgb\n",
        "import xgboost as xgb\n",
        "\n",
        "import time\n",
        "from sklearn.metrics import r2_score"
      ]
    },
    {
      "cell_type": "code",
      "execution_count": null,
      "id": "5dfaae86-12e2-478a-b8f0-7947715268bf",
      "metadata": {
        "id": "5dfaae86-12e2-478a-b8f0-7947715268bf"
      },
      "outputs": [],
      "source": [
        "# data = pd.read_csv('data_normalized.csv')\n",
        "data = pd.read_csv('data_normalized.csv')"
      ]
    },
    {
      "cell_type": "code",
      "execution_count": null,
      "id": "11f8bd20-6f6d-4ca4-9258-cc5aa56da862",
      "metadata": {
        "id": "11f8bd20-6f6d-4ca4-9258-cc5aa56da862",
        "outputId": "eadbcc45-dddb-4f6f-8898-b9deaac0dc25"
      },
      "outputs": [
        {
          "data": {
            "text/html": [
              "<div>\n",
              "<style scoped>\n",
              "    .dataframe tbody tr th:only-of-type {\n",
              "        vertical-align: middle;\n",
              "    }\n",
              "\n",
              "    .dataframe tbody tr th {\n",
              "        vertical-align: top;\n",
              "    }\n",
              "\n",
              "    .dataframe thead th {\n",
              "        text-align: right;\n",
              "    }\n",
              "</style>\n",
              "<table border=\"1\" class=\"dataframe\">\n",
              "  <thead>\n",
              "    <tr style=\"text-align: right;\">\n",
              "      <th></th>\n",
              "      <th>smiles</th>\n",
              "      <th>gap</th>\n",
              "      <th>A</th>\n",
              "      <th>B</th>\n",
              "      <th>mu</th>\n",
              "      <th>alpha</th>\n",
              "      <th>u0</th>\n",
              "      <th>cv</th>\n",
              "      <th>MaxAbsEStateIndex</th>\n",
              "      <th>MinAbsEStateIndex</th>\n",
              "      <th>...</th>\n",
              "      <th>n4HRing</th>\n",
              "      <th>n6aRing</th>\n",
              "      <th>n5FRing</th>\n",
              "      <th>n6FRing</th>\n",
              "      <th>n7FRing</th>\n",
              "      <th>n8FRing</th>\n",
              "      <th>n9FRing</th>\n",
              "      <th>GGI4</th>\n",
              "      <th>Radius</th>\n",
              "      <th>TopoShapeIndex</th>\n",
              "    </tr>\n",
              "  </thead>\n",
              "  <tbody>\n",
              "    <tr>\n",
              "      <th>0</th>\n",
              "      <td>OC1CC2(CC2)CC1=O</td>\n",
              "      <td>0.2229</td>\n",
              "      <td>0.058754</td>\n",
              "      <td>0.153874</td>\n",
              "      <td>0.126418</td>\n",
              "      <td>0.421170</td>\n",
              "      <td>0.489892</td>\n",
              "      <td>0.555688</td>\n",
              "      <td>0.829230</td>\n",
              "      <td>0.036885</td>\n",
              "      <td>...</td>\n",
              "      <td>0.000000</td>\n",
              "      <td>0.0</td>\n",
              "      <td>0.0</td>\n",
              "      <td>0.0</td>\n",
              "      <td>0.0</td>\n",
              "      <td>0.0</td>\n",
              "      <td>0.0</td>\n",
              "      <td>0.346154</td>\n",
              "      <td>0.5</td>\n",
              "      <td>0.333333</td>\n",
              "    </tr>\n",
              "    <tr>\n",
              "      <th>1</th>\n",
              "      <td>C1CC1NC2=NCCO2</td>\n",
              "      <td>0.2788</td>\n",
              "      <td>0.090617</td>\n",
              "      <td>0.101410</td>\n",
              "      <td>0.062398</td>\n",
              "      <td>0.449967</td>\n",
              "      <td>0.500195</td>\n",
              "      <td>0.514633</td>\n",
              "      <td>0.325505</td>\n",
              "      <td>0.394454</td>\n",
              "      <td>...</td>\n",
              "      <td>0.000000</td>\n",
              "      <td>0.0</td>\n",
              "      <td>0.0</td>\n",
              "      <td>0.0</td>\n",
              "      <td>0.0</td>\n",
              "      <td>0.0</td>\n",
              "      <td>0.0</td>\n",
              "      <td>0.173077</td>\n",
              "      <td>0.5</td>\n",
              "      <td>0.666667</td>\n",
              "    </tr>\n",
              "    <tr>\n",
              "      <th>2</th>\n",
              "      <td>C#CC12CC1C1OC21</td>\n",
              "      <td>0.2499</td>\n",
              "      <td>0.091919</td>\n",
              "      <td>0.234986</td>\n",
              "      <td>0.066716</td>\n",
              "      <td>0.342451</td>\n",
              "      <td>0.698876</td>\n",
              "      <td>0.360082</td>\n",
              "      <td>0.339281</td>\n",
              "      <td>0.158470</td>\n",
              "      <td>...</td>\n",
              "      <td>0.000000</td>\n",
              "      <td>0.0</td>\n",
              "      <td>0.0</td>\n",
              "      <td>1.0</td>\n",
              "      <td>0.0</td>\n",
              "      <td>0.0</td>\n",
              "      <td>0.0</td>\n",
              "      <td>0.326923</td>\n",
              "      <td>0.0</td>\n",
              "      <td>1.000000</td>\n",
              "    </tr>\n",
              "    <tr>\n",
              "      <th>3</th>\n",
              "      <td>CC1OCOCC1C#C</td>\n",
              "      <td>0.3013</td>\n",
              "      <td>0.038266</td>\n",
              "      <td>0.238226</td>\n",
              "      <td>0.086291</td>\n",
              "      <td>0.437736</td>\n",
              "      <td>0.490020</td>\n",
              "      <td>0.576568</td>\n",
              "      <td>0.329170</td>\n",
              "      <td>0.081284</td>\n",
              "      <td>...</td>\n",
              "      <td>0.000000</td>\n",
              "      <td>0.0</td>\n",
              "      <td>0.0</td>\n",
              "      <td>0.0</td>\n",
              "      <td>0.0</td>\n",
              "      <td>0.0</td>\n",
              "      <td>0.0</td>\n",
              "      <td>0.363077</td>\n",
              "      <td>0.5</td>\n",
              "      <td>0.666667</td>\n",
              "    </tr>\n",
              "    <tr>\n",
              "      <th>4</th>\n",
              "      <td>N=C1OC2C1CCC2=O</td>\n",
              "      <td>0.2058</td>\n",
              "      <td>0.059388</td>\n",
              "      <td>0.194392</td>\n",
              "      <td>0.084339</td>\n",
              "      <td>0.357127</td>\n",
              "      <td>0.449933</td>\n",
              "      <td>0.407337</td>\n",
              "      <td>0.827437</td>\n",
              "      <td>0.088798</td>\n",
              "      <td>...</td>\n",
              "      <td>0.166667</td>\n",
              "      <td>0.0</td>\n",
              "      <td>0.0</td>\n",
              "      <td>0.0</td>\n",
              "      <td>1.0</td>\n",
              "      <td>0.0</td>\n",
              "      <td>0.0</td>\n",
              "      <td>0.437692</td>\n",
              "      <td>0.5</td>\n",
              "      <td>0.666667</td>\n",
              "    </tr>\n",
              "    <tr>\n",
              "      <th>...</th>\n",
              "      <td>...</td>\n",
              "      <td>...</td>\n",
              "      <td>...</td>\n",
              "      <td>...</td>\n",
              "      <td>...</td>\n",
              "      <td>...</td>\n",
              "      <td>...</td>\n",
              "      <td>...</td>\n",
              "      <td>...</td>\n",
              "      <td>...</td>\n",
              "      <td>...</td>\n",
              "      <td>...</td>\n",
              "      <td>...</td>\n",
              "      <td>...</td>\n",
              "      <td>...</td>\n",
              "      <td>...</td>\n",
              "      <td>...</td>\n",
              "      <td>...</td>\n",
              "      <td>...</td>\n",
              "      <td>...</td>\n",
              "      <td>...</td>\n",
              "    </tr>\n",
              "    <tr>\n",
              "      <th>19611</th>\n",
              "      <td>CC12C3COC1OCC23</td>\n",
              "      <td>0.3306</td>\n",
              "      <td>0.041433</td>\n",
              "      <td>0.284555</td>\n",
              "      <td>0.130151</td>\n",
              "      <td>0.396264</td>\n",
              "      <td>0.489928</td>\n",
              "      <td>0.447396</td>\n",
              "      <td>0.347303</td>\n",
              "      <td>0.094262</td>\n",
              "      <td>...</td>\n",
              "      <td>0.000000</td>\n",
              "      <td>0.0</td>\n",
              "      <td>0.0</td>\n",
              "      <td>0.0</td>\n",
              "      <td>0.0</td>\n",
              "      <td>1.0</td>\n",
              "      <td>0.0</td>\n",
              "      <td>0.000000</td>\n",
              "      <td>0.0</td>\n",
              "      <td>0.500000</td>\n",
              "    </tr>\n",
              "    <tr>\n",
              "      <th>19612</th>\n",
              "      <td>c1c(ncnc1F)F</td>\n",
              "      <td>0.2447</td>\n",
              "      <td>0.077785</td>\n",
              "      <td>0.256467</td>\n",
              "      <td>0.045203</td>\n",
              "      <td>0.141984</td>\n",
              "      <td>0.383117</td>\n",
              "      <td>0.171898</td>\n",
              "      <td>0.918294</td>\n",
              "      <td>0.360656</td>\n",
              "      <td>...</td>\n",
              "      <td>0.000000</td>\n",
              "      <td>1.0</td>\n",
              "      <td>0.0</td>\n",
              "      <td>0.0</td>\n",
              "      <td>0.0</td>\n",
              "      <td>0.0</td>\n",
              "      <td>0.0</td>\n",
              "      <td>0.307692</td>\n",
              "      <td>0.5</td>\n",
              "      <td>0.333333</td>\n",
              "    </tr>\n",
              "    <tr>\n",
              "      <th>19613</th>\n",
              "      <td>O=C1CC2NC2C2CN12</td>\n",
              "      <td>0.2524</td>\n",
              "      <td>0.045481</td>\n",
              "      <td>0.302529</td>\n",
              "      <td>0.231973</td>\n",
              "      <td>0.383033</td>\n",
              "      <td>0.503466</td>\n",
              "      <td>0.403611</td>\n",
              "      <td>0.845230</td>\n",
              "      <td>0.208333</td>\n",
              "      <td>...</td>\n",
              "      <td>0.000000</td>\n",
              "      <td>0.0</td>\n",
              "      <td>0.0</td>\n",
              "      <td>0.0</td>\n",
              "      <td>0.0</td>\n",
              "      <td>1.0</td>\n",
              "      <td>0.0</td>\n",
              "      <td>0.326923</td>\n",
              "      <td>0.5</td>\n",
              "      <td>0.333333</td>\n",
              "    </tr>\n",
              "    <tr>\n",
              "      <th>19614</th>\n",
              "      <td>CC#CC(O)C1(C)CC1</td>\n",
              "      <td>0.2877</td>\n",
              "      <td>0.048528</td>\n",
              "      <td>0.103806</td>\n",
              "      <td>0.092455</td>\n",
              "      <td>0.555481</td>\n",
              "      <td>0.586623</td>\n",
              "      <td>0.763308</td>\n",
              "      <td>0.694734</td>\n",
              "      <td>0.083730</td>\n",
              "      <td>...</td>\n",
              "      <td>0.000000</td>\n",
              "      <td>0.0</td>\n",
              "      <td>0.0</td>\n",
              "      <td>0.0</td>\n",
              "      <td>0.0</td>\n",
              "      <td>0.0</td>\n",
              "      <td>0.0</td>\n",
              "      <td>0.283846</td>\n",
              "      <td>0.5</td>\n",
              "      <td>0.666667</td>\n",
              "    </tr>\n",
              "    <tr>\n",
              "      <th>19615</th>\n",
              "      <td>CCCOC12CC(C1)C2</td>\n",
              "      <td>0.3385</td>\n",
              "      <td>0.086379</td>\n",
              "      <td>0.072073</td>\n",
              "      <td>0.044357</td>\n",
              "      <td>0.554926</td>\n",
              "      <td>0.583424</td>\n",
              "      <td>0.636031</td>\n",
              "      <td>0.373573</td>\n",
              "      <td>0.246298</td>\n",
              "      <td>...</td>\n",
              "      <td>0.000000</td>\n",
              "      <td>0.0</td>\n",
              "      <td>0.5</td>\n",
              "      <td>0.0</td>\n",
              "      <td>0.0</td>\n",
              "      <td>0.0</td>\n",
              "      <td>0.0</td>\n",
              "      <td>0.418462</td>\n",
              "      <td>0.5</td>\n",
              "      <td>1.000000</td>\n",
              "    </tr>\n",
              "  </tbody>\n",
              "</table>\n",
              "<p>19616 rows × 206 columns</p>\n",
              "</div>"
            ],
            "text/plain": [
              "                 smiles     gap         A         B        mu     alpha  \\\n",
              "0      OC1CC2(CC2)CC1=O  0.2229  0.058754  0.153874  0.126418  0.421170   \n",
              "1        C1CC1NC2=NCCO2  0.2788  0.090617  0.101410  0.062398  0.449967   \n",
              "2       C#CC12CC1C1OC21  0.2499  0.091919  0.234986  0.066716  0.342451   \n",
              "3          CC1OCOCC1C#C  0.3013  0.038266  0.238226  0.086291  0.437736   \n",
              "4       N=C1OC2C1CCC2=O  0.2058  0.059388  0.194392  0.084339  0.357127   \n",
              "...                 ...     ...       ...       ...       ...       ...   \n",
              "19611   CC12C3COC1OCC23  0.3306  0.041433  0.284555  0.130151  0.396264   \n",
              "19612      c1c(ncnc1F)F  0.2447  0.077785  0.256467  0.045203  0.141984   \n",
              "19613  O=C1CC2NC2C2CN12  0.2524  0.045481  0.302529  0.231973  0.383033   \n",
              "19614  CC#CC(O)C1(C)CC1  0.2877  0.048528  0.103806  0.092455  0.555481   \n",
              "19615   CCCOC12CC(C1)C2  0.3385  0.086379  0.072073  0.044357  0.554926   \n",
              "\n",
              "             u0        cv  MaxAbsEStateIndex  MinAbsEStateIndex  ...  \\\n",
              "0      0.489892  0.555688           0.829230           0.036885  ...   \n",
              "1      0.500195  0.514633           0.325505           0.394454  ...   \n",
              "2      0.698876  0.360082           0.339281           0.158470  ...   \n",
              "3      0.490020  0.576568           0.329170           0.081284  ...   \n",
              "4      0.449933  0.407337           0.827437           0.088798  ...   \n",
              "...         ...       ...                ...                ...  ...   \n",
              "19611  0.489928  0.447396           0.347303           0.094262  ...   \n",
              "19612  0.383117  0.171898           0.918294           0.360656  ...   \n",
              "19613  0.503466  0.403611           0.845230           0.208333  ...   \n",
              "19614  0.586623  0.763308           0.694734           0.083730  ...   \n",
              "19615  0.583424  0.636031           0.373573           0.246298  ...   \n",
              "\n",
              "        n4HRing  n6aRing  n5FRing  n6FRing  n7FRing  n8FRing  n9FRing  \\\n",
              "0      0.000000      0.0      0.0      0.0      0.0      0.0      0.0   \n",
              "1      0.000000      0.0      0.0      0.0      0.0      0.0      0.0   \n",
              "2      0.000000      0.0      0.0      1.0      0.0      0.0      0.0   \n",
              "3      0.000000      0.0      0.0      0.0      0.0      0.0      0.0   \n",
              "4      0.166667      0.0      0.0      0.0      1.0      0.0      0.0   \n",
              "...         ...      ...      ...      ...      ...      ...      ...   \n",
              "19611  0.000000      0.0      0.0      0.0      0.0      1.0      0.0   \n",
              "19612  0.000000      1.0      0.0      0.0      0.0      0.0      0.0   \n",
              "19613  0.000000      0.0      0.0      0.0      0.0      1.0      0.0   \n",
              "19614  0.000000      0.0      0.0      0.0      0.0      0.0      0.0   \n",
              "19615  0.000000      0.0      0.5      0.0      0.0      0.0      0.0   \n",
              "\n",
              "           GGI4  Radius  TopoShapeIndex  \n",
              "0      0.346154     0.5        0.333333  \n",
              "1      0.173077     0.5        0.666667  \n",
              "2      0.326923     0.0        1.000000  \n",
              "3      0.363077     0.5        0.666667  \n",
              "4      0.437692     0.5        0.666667  \n",
              "...         ...     ...             ...  \n",
              "19611  0.000000     0.0        0.500000  \n",
              "19612  0.307692     0.5        0.333333  \n",
              "19613  0.326923     0.5        0.333333  \n",
              "19614  0.283846     0.5        0.666667  \n",
              "19615  0.418462     0.5        1.000000  \n",
              "\n",
              "[19616 rows x 206 columns]"
            ]
          },
          "execution_count": 36,
          "metadata": {},
          "output_type": "execute_result"
        }
      ],
      "source": [
        "data"
      ]
    },
    {
      "cell_type": "code",
      "execution_count": null,
      "id": "c66469ad-f754-4d3e-85dc-4ed4f1cccc72",
      "metadata": {
        "id": "c66469ad-f754-4d3e-85dc-4ed4f1cccc72"
      },
      "outputs": [],
      "source": [
        "# Разделим данные на признаки и целевую переменную\n",
        "X = data.drop(['gap', 'smiles'], axis=1)\n",
        "y = data['gap']"
      ]
    },
    {
      "cell_type": "markdown",
      "id": "58beadd7-1ac8-4a99-8276-84541ef5175a",
      "metadata": {
        "id": "58beadd7-1ac8-4a99-8276-84541ef5175a"
      },
      "source": [
        "# LightGBM"
      ]
    },
    {
      "cell_type": "code",
      "execution_count": null,
      "id": "0ba58a75-d57b-4f5e-9cf6-63226c58bb3e",
      "metadata": {
        "id": "0ba58a75-d57b-4f5e-9cf6-63226c58bb3e"
      },
      "outputs": [],
      "source": [
        "X_train, X_test, y_train, y_test = train_test_split(X, y, test_size=0.2, random_state=42)\n"
      ]
    },
    {
      "cell_type": "code",
      "execution_count": null,
      "id": "51b54ef8-ca54-4b0a-93d5-26006f265533",
      "metadata": {
        "id": "51b54ef8-ca54-4b0a-93d5-26006f265533",
        "outputId": "d90cf7ec-e52b-4a09-db37-e93787e9f6bd"
      },
      "outputs": [
        {
          "name": "stdout",
          "output_type": "stream",
          "text": [
            "[LightGBM] [Info] Auto-choosing col-wise multi-threading, the overhead of testing was 0.012770 seconds.\n",
            "You can set `force_col_wise=true` to remove the overhead.\n",
            "[LightGBM] [Info] Total Bins 28336\n",
            "[LightGBM] [Info] Number of data points in the train set: 15692, number of used features: 204\n",
            "[LightGBM] [Info] Start training from score 0.251010\n"
          ]
        }
      ],
      "source": [
        "model = lgb.LGBMRegressor()\n",
        "\n",
        "start_time = time.time()\n",
        "\n",
        "model.fit(X_train, y_train)\n",
        "\n",
        "training_time = time.time() - start_time"
      ]
    },
    {
      "cell_type": "code",
      "execution_count": null,
      "id": "a47ec561-05df-4af4-8059-972b5cae6cd7",
      "metadata": {
        "id": "a47ec561-05df-4af4-8059-972b5cae6cd7",
        "outputId": "e8b9c98c-ba77-4685-acf0-a3a5a06696f7"
      },
      "outputs": [
        {
          "name": "stdout",
          "output_type": "stream",
          "text": [
            "[LightGBM] [Info] Auto-choosing col-wise multi-threading, the overhead of testing was 0.014311 seconds.\n",
            "You can set `force_col_wise=true` to remove the overhead.\n",
            "[LightGBM] [Info] Total Bins 28505\n",
            "[LightGBM] [Info] Number of data points in the train set: 17654, number of used features: 204\n",
            "[LightGBM] [Info] Start training from score 0.251076\n",
            "[LightGBM] [Info] Auto-choosing col-wise multi-threading, the overhead of testing was 0.014422 seconds.\n",
            "You can set `force_col_wise=true` to remove the overhead.\n",
            "[LightGBM] [Info] Total Bins 28462\n",
            "[LightGBM] [Info] Number of data points in the train set: 17654, number of used features: 204\n",
            "[LightGBM] [Info] Start training from score 0.250963\n",
            "[LightGBM] [Info] Auto-choosing col-wise multi-threading, the overhead of testing was 0.014323 seconds.\n",
            "You can set `force_col_wise=true` to remove the overhead.\n",
            "[LightGBM] [Info] Total Bins 28487\n",
            "[LightGBM] [Info] Number of data points in the train set: 17654, number of used features: 204\n",
            "[LightGBM] [Info] Start training from score 0.250999\n",
            "[LightGBM] [Info] Auto-choosing col-wise multi-threading, the overhead of testing was 0.014569 seconds.\n",
            "You can set `force_col_wise=true` to remove the overhead.\n",
            "[LightGBM] [Info] Total Bins 28511\n",
            "[LightGBM] [Info] Number of data points in the train set: 17654, number of used features: 204\n",
            "[LightGBM] [Info] Start training from score 0.250984\n",
            "[LightGBM] [Info] Auto-choosing col-wise multi-threading, the overhead of testing was 0.014601 seconds.\n",
            "You can set `force_col_wise=true` to remove the overhead.\n",
            "[LightGBM] [Info] Total Bins 28493\n",
            "[LightGBM] [Info] Number of data points in the train set: 17654, number of used features: 204\n",
            "[LightGBM] [Info] Start training from score 0.251035\n",
            "[LightGBM] [Info] Auto-choosing row-wise multi-threading, the overhead of testing was 0.009194 seconds.\n",
            "You can set `force_row_wise=true` to remove the overhead.\n",
            "And if memory is not enough, you can set `force_col_wise=true`.\n",
            "[LightGBM] [Info] Total Bins 28434\n",
            "[LightGBM] [Info] Number of data points in the train set: 17654, number of used features: 204\n",
            "[LightGBM] [Info] Start training from score 0.251206\n",
            "[LightGBM] [Info] Auto-choosing col-wise multi-threading, the overhead of testing was 0.015228 seconds.\n",
            "You can set `force_col_wise=true` to remove the overhead.\n",
            "[LightGBM] [Info] Total Bins 28565\n",
            "[LightGBM] [Info] Number of data points in the train set: 17655, number of used features: 204\n",
            "[LightGBM] [Info] Start training from score 0.251126\n",
            "[LightGBM] [Info] Auto-choosing col-wise multi-threading, the overhead of testing was 0.014583 seconds.\n",
            "You can set `force_col_wise=true` to remove the overhead.\n",
            "[LightGBM] [Info] Total Bins 28500\n",
            "[LightGBM] [Info] Number of data points in the train set: 17655, number of used features: 204\n",
            "[LightGBM] [Info] Start training from score 0.251253\n",
            "[LightGBM] [Info] Auto-choosing col-wise multi-threading, the overhead of testing was 0.014317 seconds.\n",
            "You can set `force_col_wise=true` to remove the overhead.\n",
            "[LightGBM] [Info] Total Bins 28441\n",
            "[LightGBM] [Info] Number of data points in the train set: 17655, number of used features: 204\n",
            "[LightGBM] [Info] Start training from score 0.251088\n",
            "[LightGBM] [Info] Auto-choosing col-wise multi-threading, the overhead of testing was 0.014701 seconds.\n",
            "You can set `force_col_wise=true` to remove the overhead.\n",
            "[LightGBM] [Info] Total Bins 28476\n",
            "[LightGBM] [Info] Number of data points in the train set: 17655, number of used features: 204\n",
            "[LightGBM] [Info] Start training from score 0.250960\n"
          ]
        },
        {
          "data": {
            "image/png": "[encoded data removed]",
            "text/plain": [
              "<Figure size 640x480 with 1 Axes>"
            ]
          },
          "metadata": {},
          "output_type": "display_data"
        },
        {
          "name": "stdout",
          "output_type": "stream",
          "text": [
            "Метрики на тестовой выборке:\n",
            "R2: 0.9452734875965069\n",
            "\n",
            "Метрики при кросс-валидации:\n",
            "Среднее R2: 0.9450375678663473\n",
            "\n",
            "Время, затраченное на обучение модели: 0.8416924476623535 секунд\n"
          ]
        }
      ],
      "source": [
        "# Предсказание на тестовой выборке\n",
        "y_pred = model.predict(X_test)\n",
        "\n",
        "# Вычисление метрик точности\n",
        "r2 = r2_score(y_test, y_pred)\n",
        "\n",
        "# Кросс-валидация для оценки точности модели\n",
        "\n",
        "cv_r2_scores = cross_val_score(model, X, y, cv=10, scoring='r2')\n",
        "\n",
        "# Визуализация результата и метрики точности\n",
        "plt.scatter(y_test, y_pred)\n",
        "plt.xlabel(\"Настоящие значения\")\n",
        "plt.ylabel(\"Предсказанные значения\")\n",
        "plt.title(\"Результаты регрессии\")\n",
        "plt.show()\n",
        "\n",
        "# Вывод результатов\n",
        "print(\"Метрики на тестовой выборке:\")\n",
        "\n",
        "print(f\"R2: {r2}\")\n",
        "\n",
        "print(\"\\nМетрики при кросс-валидации:\")\n",
        "print(f\"Среднее R2: {np.mean(cv_r2_scores)}\")\n",
        "\n",
        "# Вывод времени обучения\n",
        "print(f\"\\nВремя, затраченное на обучение модели: {training_time} секунд\")"
      ]
    },
    {
      "cell_type": "markdown",
      "id": "0b1c5a61-a93c-431e-aecb-2f24e0f6377c",
      "metadata": {
        "id": "0b1c5a61-a93c-431e-aecb-2f24e0f6377c"
      },
      "source": [
        "# XGBoost"
      ]
    },
    {
      "cell_type": "code",
      "execution_count": null,
      "id": "51be259e-baa9-4694-9e1b-94f2c54de128",
      "metadata": {
        "id": "51be259e-baa9-4694-9e1b-94f2c54de128"
      },
      "outputs": [],
      "source": [
        "# Определим модель XGBoost\n",
        "model = xgb.XGBRegressor()\n",
        "\n",
        "# Обучение модели\n",
        "start_time = time.time()\n",
        "\n",
        "model.fit(X_train, y_train)\n",
        "\n",
        "training_time = time.time() - start_time"
      ]
    },
    {
      "cell_type": "code",
      "execution_count": null,
      "id": "f2c10652-dd0e-493b-8e00-9746a9aad381",
      "metadata": {
        "id": "f2c10652-dd0e-493b-8e00-9746a9aad381",
        "outputId": "07cf6866-8717-4ace-a05b-ebcca542f6c2"
      },
      "outputs": [
        {
          "data": {
            "image/png": "[encoded data removed]",
            "text/plain": [
              "<Figure size 640x480 with 1 Axes>"
            ]
          },
          "metadata": {},
          "output_type": "display_data"
        },
        {
          "name": "stdout",
          "output_type": "stream",
          "text": [
            "Метрики на тестовой выборке:\n",
            "R2: 0.9459430070798149\n",
            "\n",
            "Метрики при кросс-валидации:\n",
            "Среднее R2: 0.9460619340480184\n",
            "\n",
            "Время, затраченное на обучение модели: 1.2952466011047363 секунд\n"
          ]
        }
      ],
      "source": [
        "# Предсказание на тестовой выборке\n",
        "y_pred = model.predict(X_test)\n",
        "\n",
        "# Вычисление метрик точности\n",
        "r2 = r2_score(y_test, y_pred)\n",
        "\n",
        "# Кросс-валидация для оценки точности модели\n",
        "\n",
        "cv_r2_scores = cross_val_score(model, X, y, cv=10, scoring='r2')\n",
        "\n",
        "# Визуализация результата и метрики точности\n",
        "plt.scatter(y_test, y_pred)\n",
        "plt.xlabel(\"Настоящие значения\")\n",
        "plt.ylabel(\"Предсказанные значения\")\n",
        "plt.title(\"Результаты регрессии\")\n",
        "plt.show()\n",
        "\n",
        "# Вывод результатов\n",
        "print(\"Метрики на тестовой выборке:\")\n",
        "\n",
        "print(f\"R2: {r2}\")\n",
        "\n",
        "print(\"\\nМетрики при кросс-валидации:\")\n",
        "\n",
        "print(f\"Среднее R2: {np.mean(cv_r2_scores)}\")\n",
        "\n",
        "# Вывод времени обучения\n",
        "print(f\"\\nВремя, затраченное на обучение модели: {training_time} секунд\")"
      ]
    },
    {
      "cell_type": "markdown",
      "id": "09340033-a0ef-43b6-befd-05bb48121458",
      "metadata": {
        "id": "09340033-a0ef-43b6-befd-05bb48121458"
      },
      "source": [
        "# Gradient Boosting"
      ]
    },
    {
      "cell_type": "code",
      "execution_count": null,
      "id": "3b0ae98f-d74a-4427-8975-a353b49655a4",
      "metadata": {
        "id": "3b0ae98f-d74a-4427-8975-a353b49655a4"
      },
      "outputs": [],
      "source": [
        "# Определим модель\n",
        "model = GradientBoostingRegressor()\n",
        "\n",
        "# Обучение модели\n",
        "start_time = time.time()\n",
        "\n",
        "model.fit(X_train, y_train)\n",
        "\n",
        "training_time = time.time() - start_time"
      ]
    },
    {
      "cell_type": "code",
      "execution_count": null,
      "id": "4d5a9499-5dd4-4724-8e52-8c9c2e98f660",
      "metadata": {
        "id": "4d5a9499-5dd4-4724-8e52-8c9c2e98f660",
        "outputId": "ac6e59e7-19d2-44cc-ad34-ec81d2c9ae80"
      },
      "outputs": [
        {
          "data": {
            "image/png": "[encoded data removed]",
            "text/plain": [
              "<Figure size 640x480 with 1 Axes>"
            ]
          },
          "metadata": {},
          "output_type": "display_data"
        },
        {
          "name": "stdout",
          "output_type": "stream",
          "text": [
            "Метрики на тестовой выборке:\n",
            "R2: 0.9128397678156441\n",
            "\n",
            "Метрики при кросс-валидации:\n",
            "Среднее R2: 0.9089348272521495\n",
            "\n",
            "Время, затраченное на обучение модели: 45.71426701545715 секунд\n"
          ]
        }
      ],
      "source": [
        "# Предсказание на тестовой выборке\n",
        "y_pred = model.predict(X_test)\n",
        "\n",
        "# Вычисление метрик точности\n",
        "\n",
        "r2 = r2_score(y_test, y_pred)\n",
        "\n",
        "# Кросс-валидация для оценки точности модели\n",
        "\n",
        "cv_r2_scores = cross_val_score(model, X, y, cv=10, scoring='r2')\n",
        "\n",
        "# Визуализация результата и метрики точности\n",
        "plt.scatter(y_test, y_pred)\n",
        "plt.xlabel(\"Настоящие значения\")\n",
        "plt.ylabel(\"Предсказанные значения\")\n",
        "plt.title(\"Результаты регрессии\")\n",
        "plt.show()\n",
        "\n",
        "# Вывод результатов\n",
        "print(\"Метрики на тестовой выборке:\")\n",
        "\n",
        "print(f\"R2: {r2}\")\n",
        "\n",
        "print(\"\\nМетрики при кросс-валидации:\")\n",
        "\n",
        "print(f\"Среднее R2: {np.mean(cv_r2_scores)}\")\n",
        "\n",
        "# Вывод времени обучения\n",
        "print(f\"\\nВремя, затраченное на обучение модели: {training_time} секунд\")"
      ]
    },
    {
      "cell_type": "markdown",
      "id": "e2274cf4-ef50-48d0-a08c-6270d924d5eb",
      "metadata": {
        "id": "e2274cf4-ef50-48d0-a08c-6270d924d5eb"
      },
      "source": [
        "# Hyperparameters\n",
        "\n",
        "The fastest model is LightGBM. We selected hyperparameters for it, but it did not improve the result."
      ]
    },
    {
      "cell_type": "code",
      "execution_count": null,
      "id": "684c7414-b44a-4804-af93-0c637b524618",
      "metadata": {
        "id": "684c7414-b44a-4804-af93-0c637b524618"
      },
      "outputs": [],
      "source": [
        "from sklearn.model_selection import GridSearchCV"
      ]
    },
    {
      "cell_type": "code",
      "execution_count": null,
      "id": "993e24b8-d6cb-4121-b6d0-788cf05b907e",
      "metadata": {
        "id": "993e24b8-d6cb-4121-b6d0-788cf05b907e",
        "outputId": "3c22b11f-bce4-4e12-9505-2ecdbba38b74"
      },
      "outputs": [
        {
          "name": "stdout",
          "output_type": "stream",
          "text": [
            "[LightGBM] [Info] Auto-choosing col-wise multi-threading, the overhead of testing was 0.002261 seconds.\n",
            "You can set `force_col_wise=true` to remove the overhead.\n",
            "[LightGBM] [Info] Total Bins 15555\n",
            "[LightGBM] [Info] Number of data points in the train set: 13192, number of used features: 61\n",
            "[LightGBM] [Info] Start training from score 0.507145\n",
            "Лучшие параметры: {'learning_rate': 0.1, 'n_estimators': 200, 'num_leaves': 50}\n",
            "\n",
            "Метрики на тестовой выборке с лучшей моделью:\n",
            "R2: 0.8864785849846685\n",
            "\n",
            "Время, затраченное на обучение модели с оптимизированными гиперпараметрами: 1919.864819765091 секунд\n"
          ]
        }
      ],
      "source": [
        "# Создаем объект модели LightGBM\n",
        "model = lgb.LGBMRegressor()\n",
        "\n",
        "# Задаем сетку гиперпараметров для перебора\n",
        "param_grid = {\n",
        "    'num_leaves': [30, 50],\n",
        "    'learning_rate': [0.1, 0.05],\n",
        "    'n_estimators': [100, 200],\n",
        "}\n",
        "# Создание объекта GridSearchCV\n",
        "grid_search = GridSearchCV(model, param_grid, cv=5, scoring='r2', n_jobs=-1)\n",
        "\n",
        "# Обучение модели с оптимизацией гиперпараметров\n",
        "start_time = time.time()\n",
        "grid_search.fit(X_train, y_train)\n",
        "training_time = time.time() - start_time\n",
        "\n",
        "# Получение лучших параметров\n",
        "best_params = grid_search.best_params_\n",
        "\n",
        "# Предсказание на тестовой выборке с лучшей моделью\n",
        "best_model = grid_search.best_estimator_\n",
        "y_pred = best_model.predict(X_test)\n",
        "\n",
        "\n",
        "r2 = r2_score(y_test, y_pred)\n",
        "\n",
        "# Вывод результатов\n",
        "print(\"Лучшие параметры:\", best_params)\n",
        "print(\"\\nМетрики на тестовой выборке с лучшей моделью:\")\n",
        "\n",
        "print(f\"R2: {r2}\")\n",
        "\n",
        "# Вывод времени обучения\n",
        "print(f\"\\nВремя, затраченное на обучение модели с оптимизированными гиперпараметрами: {training_time} секунд\")"
      ]
    }
  ],
  "metadata": {
    "kernelspec": {
      "display_name": "Python 3 (ipykernel)",
      "language": "python",
      "name": "python3"
    },
    "language_info": {
      "codemirror_mode": {
        "name": "ipython",
        "version": 3
      },
      "file_extension": ".py",
      "mimetype": "text/x-python",
      "name": "python",
      "nbconvert_exporter": "python",
      "pygments_lexer": "ipython3",
      "version": "3.10.12"
    },
    "colab": {
      "provenance": [],
      "include_colab_link": true
    }
  },
  "nbformat": 4,
  "nbformat_minor": 5
}