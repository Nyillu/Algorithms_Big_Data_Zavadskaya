{
  "cells": [
    {
      "cell_type": "markdown",
      "metadata": {
        "id": "view-in-github",
        "colab_type": "text"
      },
      "source": [
        "<a href=\"https://colab.research.google.com/github/Nyillu/Algorithms_Big_Data_Zavadskaya/blob/main/feature_selection.ipynb\" target=\"_parent\"><img src=\"https://colab.research.google.com/assets/colab-badge.svg\" alt=\"Open In Colab\"/></a>"
      ]
    },
    {
      "cell_type": "markdown",
      "id": "_QAJ4VVGj_Ed",
      "metadata": {
        "id": "_QAJ4VVGj_Ed"
      },
      "source": [
        "# Feature engineering\n",
        "\n",
        "This notebook presents work on the features of our data. The work was carried out according to the following plan:\n",
        "\n",
        "- [ ] drop incomplete features\n",
        "- [ ] drop features with high correlation\n",
        "- [ ] drop features with (near-)zero variance\n",
        "\n",
        "\n",
        "This code is made to be run locally within current repository. If you work in Google Colab, adjust the path to the `data_with_descriptors.csv` file accordingly and install the libraries provided in the *requirements*.\n",
        "\n",
        "The **result of working** in this notepad is the `data_clean.csv` file.\n"
      ]
    },
    {
      "cell_type": "markdown",
      "id": "5AJu8u4yQZqW",
      "metadata": {
        "id": "5AJu8u4yQZqW"
      },
      "source": [
        "# Requirements"
      ]
    },
    {
      "cell_type": "code",
      "execution_count": null,
      "id": "54dbf51a-4d8b-43fd-91ef-ef2cc44363d7",
      "metadata": {
        "id": "54dbf51a-4d8b-43fd-91ef-ef2cc44363d7"
      },
      "outputs": [],
      "source": [
        "import pandas as pd\n",
        "from rdkit import Chem\n",
        "from rdkit.Chem import AllChem\n",
        "import matplotlib.pyplot as plt\n",
        "import seaborn as sns\n",
        "from sklearn.preprocessing import StandardScaler\n",
        "import numpy as np"
      ]
    },
    {
      "cell_type": "code",
      "execution_count": null,
      "id": "6aNJUPs8P-KR",
      "metadata": {
        "colab": {
          "base_uri": "https://localhost:8080/"
        },
        "id": "6aNJUPs8P-KR",
        "outputId": "f76a058f-9870-4953-92bf-e555ebfcf078"
      },
      "outputs": [
        {
          "name": "stdout",
          "output_type": "stream",
          "text": [
            "Mounted at /content/drive\n"
          ]
        }
      ],
      "source": [
        "from google.colab import drive\n",
        "drive.mount('/content/drive')"
      ]
    },
    {
      "cell_type": "code",
      "execution_count": null,
      "id": "a05c8c42-3d4c-41fd-a02d-0e655b85cca2",
      "metadata": {
        "id": "a05c8c42-3d4c-41fd-a02d-0e655b85cca2"
      },
      "outputs": [],
      "source": [
        "df = pd.read_csv('/content/drive/MyDrive/Big data/data_with_descriptors.csv', low_memory=False)"
      ]
    },
    {
      "cell_type": "code",
      "execution_count": null,
      "id": "24adb39d-81ac-4a0a-98d5-55e590e61d4d",
      "metadata": {
        "colab": {
          "base_uri": "https://localhost:8080/"
        },
        "id": "24adb39d-81ac-4a0a-98d5-55e590e61d4d",
        "outputId": "f1e03afd-1597-4f1d-c2ad-605ec5f971f1"
      },
      "outputs": [
        {
          "name": "stdout",
          "output_type": "stream",
          "text": [
            "<class 'pandas.core.frame.DataFrame'>\n",
            "RangeIndex: 20000 entries, 0 to 19999\n",
            "Columns: 1840 entries, mol_id to mZagreb2\n",
            "dtypes: bool(2), float64(970), int64(428), object(440)\n",
            "memory usage: 280.5+ MB\n"
          ]
        }
      ],
      "source": [
        "df.info()"
      ]
    },
    {
      "cell_type": "markdown",
      "id": "b5483739-f0f4-49e2-8cad-288cb03dd350",
      "metadata": {
        "id": "b5483739-f0f4-49e2-8cad-288cb03dd350"
      },
      "source": [
        "# Drop incomplete features\n",
        "\n",
        "While dividing the dataset into categorical and numerical features, it became clear that many descriptors were unloaded with **errors.**\n",
        "\n",
        "Here the replacement of incorrectly unloaded values with NaNs is presented. As a result, all features are converted to numbers.\n",
        "\n",
        "Columns with more than $1000$ NaN ($5\\%$ of the dataframe) were also removed."
      ]
    },
    {
      "cell_type": "code",
      "execution_count": null,
      "id": "bd9871c9-b91e-4ea9-8d69-77e12e56d4a8",
      "metadata": {
        "id": "bd9871c9-b91e-4ea9-8d69-77e12e56d4a8"
      },
      "outputs": [],
      "source": [
        "numeric_columns = df.select_dtypes(include=['float64', 'int64']).columns\n",
        "categorical_columns = df.select_dtypes(include=['object']).columns\n",
        "boolean_columns = df.select_dtypes(include=['bool']).columns\n",
        "\n",
        "df_num = df[numeric_columns]\n",
        "df_cat = df[categorical_columns]\n",
        "df_bool = df[boolean_columns]"
      ]
    },
    {
      "cell_type": "code",
      "execution_count": null,
      "id": "0029a633-513c-4d58-86b0-d106eaf8c933",
      "metadata": {
        "colab": {
          "base_uri": "https://localhost:8080/"
        },
        "id": "0029a633-513c-4d58-86b0-d106eaf8c933",
        "outputId": "d8a36d1b-3b5f-4faa-83b2-e45de23f11d9"
      },
      "outputs": [
        {
          "name": "stdout",
          "output_type": "stream",
          "text": [
            "Количество колонок с числовыми признаками: 1398\n",
            "Количество колонок с категориальными признаками: 440\n",
            "Количество колонок с булевыми значениями: 2\n"
          ]
        }
      ],
      "source": [
        "print ('Количество колонок с числовыми признаками:', len(numeric_columns))\n",
        "print ('Количество колонок с категориальными признаками:', len(categorical_columns))\n",
        "print ('Количество колонок с булевыми значениями:', len(boolean_columns))"
      ]
    },
    {
      "cell_type": "code",
      "execution_count": null,
      "id": "c183e5c0-51e5-46ff-a5f1-7f1b1d916a5e",
      "metadata": {
        "colab": {
          "base_uri": "https://localhost:8080/",
          "height": 1000
        },
        "id": "c183e5c0-51e5-46ff-a5f1-7f1b1d916a5e",
        "outputId": "74a3e58d-50ad-4c31-9104-cf2de9813b6a"
      },
      "outputs": [
        {
          "data": {
            "application/vnd.google.colaboratory.intrinsic+json": {
              "type": "dataframe",
              "variable_name": "df_cat"
            },
            "text/html": [
              "\n",
              "  <div id=\"df-761b2877-d5ce-45e6-aed8-c71ea471243e\" class=\"colab-df-container\">\n",
              "    <div>\n",
              "<style scoped>\n",
              "    .dataframe tbody tr th:only-of-type {\n",
              "        vertical-align: middle;\n",
              "    }\n",
              "\n",
              "    .dataframe tbody tr th {\n",
              "        vertical-align: top;\n",
              "    }\n",
              "\n",
              "    .dataframe thead th {\n",
              "        text-align: right;\n",
              "    }\n",
              "</style>\n",
              "<table border=\"1\" class=\"dataframe\">\n",
              "  <thead>\n",
              "    <tr style=\"text-align: right;\">\n",
              "      <th></th>\n",
              "      <th>mol_id</th>\n",
              "      <th>smiles</th>\n",
              "      <th>AATS4dv</th>\n",
              "      <th>AATS5dv</th>\n",
              "      <th>AATS6dv</th>\n",
              "      <th>AATS7dv</th>\n",
              "      <th>AATS8dv</th>\n",
              "      <th>AATS4d</th>\n",
              "      <th>AATS5d</th>\n",
              "      <th>AATS6d</th>\n",
              "      <th>...</th>\n",
              "      <th>MDEC-44</th>\n",
              "      <th>MDEO-11</th>\n",
              "      <th>MDEO-12</th>\n",
              "      <th>MDEO-22</th>\n",
              "      <th>MDEN-11</th>\n",
              "      <th>MDEN-12</th>\n",
              "      <th>MDEN-13</th>\n",
              "      <th>MDEN-22</th>\n",
              "      <th>MDEN-23</th>\n",
              "      <th>MDEN-33</th>\n",
              "    </tr>\n",
              "  </thead>\n",
              "  <tbody>\n",
              "    <tr>\n",
              "      <th>0</th>\n",
              "      <td>gdb_89835</td>\n",
              "      <td>OC1CC2(CC2)CC1=O</td>\n",
              "      <td>0.9777777777777777</td>\n",
              "      <td>0.0</td>\n",
              "      <td>0.0</td>\n",
              "      <td>invalid value encountered in double_scalars (A...</td>\n",
              "      <td>invalid value encountered in double_scalars (A...</td>\n",
              "      <td>1.5777777777777777</td>\n",
              "      <td>1.125</td>\n",
              "      <td>1.0</td>\n",
              "      <td>...</td>\n",
              "      <td>float division by zero (MDEC-44)</td>\n",
              "      <td>0.33333333333333337</td>\n",
              "      <td>float division by zero (MDEO-12)</td>\n",
              "      <td>float division by zero (MDEO-22)</td>\n",
              "      <td>float division by zero (MDEN-11)</td>\n",
              "      <td>float division by zero (MDEN-12)</td>\n",
              "      <td>float division by zero (MDEN-13)</td>\n",
              "      <td>float division by zero (MDEN-22)</td>\n",
              "      <td>float division by zero (MDEN-23)</td>\n",
              "      <td>float division by zero (MDEN-33)</td>\n",
              "    </tr>\n",
              "    <tr>\n",
              "      <th>1</th>\n",
              "      <td>gdb_36873</td>\n",
              "      <td>C1CC1NC2=NCCO2</td>\n",
              "      <td>2.5454545454545454</td>\n",
              "      <td>0.7272727272727273</td>\n",
              "      <td>0.0</td>\n",
              "      <td>0.0</td>\n",
              "      <td>invalid value encountered in double_scalars (A...</td>\n",
              "      <td>2.727272727272727</td>\n",
              "      <td>2.3636363636363638</td>\n",
              "      <td>1.8</td>\n",
              "      <td>...</td>\n",
              "      <td>float division by zero (MDEC-44)</td>\n",
              "      <td>float division by zero (MDEO-11)</td>\n",
              "      <td>float division by zero (MDEO-12)</td>\n",
              "      <td>float division by zero (MDEO-22)</td>\n",
              "      <td>float division by zero (MDEN-11)</td>\n",
              "      <td>float division by zero (MDEN-12)</td>\n",
              "      <td>float division by zero (MDEN-13)</td>\n",
              "      <td>0.4999999999999999</td>\n",
              "      <td>float division by zero (MDEN-23)</td>\n",
              "      <td>float division by zero (MDEN-33)</td>\n",
              "    </tr>\n",
              "    <tr>\n",
              "      <th>2</th>\n",
              "      <td>gdb_19320</td>\n",
              "      <td>C#CC12CC1C1OC21</td>\n",
              "      <td>1.588235294117647</td>\n",
              "      <td>0.0</td>\n",
              "      <td>0.0</td>\n",
              "      <td>invalid value encountered in double_scalars (A...</td>\n",
              "      <td>invalid value encountered in double_scalars (A...</td>\n",
              "      <td>1.6470588235294117</td>\n",
              "      <td>1.4285714285714286</td>\n",
              "      <td>1.0</td>\n",
              "      <td>...</td>\n",
              "      <td>float division by zero (MDEC-44)</td>\n",
              "      <td>float division by zero (MDEO-11)</td>\n",
              "      <td>float division by zero (MDEO-12)</td>\n",
              "      <td>float division by zero (MDEO-22)</td>\n",
              "      <td>float division by zero (MDEN-11)</td>\n",
              "      <td>float division by zero (MDEN-12)</td>\n",
              "      <td>float division by zero (MDEN-13)</td>\n",
              "      <td>float division by zero (MDEN-22)</td>\n",
              "      <td>float division by zero (MDEN-23)</td>\n",
              "      <td>float division by zero (MDEN-33)</td>\n",
              "    </tr>\n",
              "    <tr>\n",
              "      <th>3</th>\n",
              "      <td>gdb_96404</td>\n",
              "      <td>CC1OCOCC1C#C</td>\n",
              "      <td>1.2926829268292683</td>\n",
              "      <td>0.20689655172413793</td>\n",
              "      <td>0.0</td>\n",
              "      <td>0.0</td>\n",
              "      <td>invalid value encountered in double_scalars (A...</td>\n",
              "      <td>1.6341463414634145</td>\n",
              "      <td>1.2758620689655173</td>\n",
              "      <td>1.1666666666666667</td>\n",
              "      <td>...</td>\n",
              "      <td>float division by zero (MDEC-44)</td>\n",
              "      <td>float division by zero (MDEO-11)</td>\n",
              "      <td>float division by zero (MDEO-12)</td>\n",
              "      <td>0.4999999999999999</td>\n",
              "      <td>float division by zero (MDEN-11)</td>\n",
              "      <td>float division by zero (MDEN-12)</td>\n",
              "      <td>float division by zero (MDEN-13)</td>\n",
              "      <td>float division by zero (MDEN-22)</td>\n",
              "      <td>float division by zero (MDEN-23)</td>\n",
              "      <td>float division by zero (MDEN-33)</td>\n",
              "    </tr>\n",
              "    <tr>\n",
              "      <th>4</th>\n",
              "      <td>gdb_44243</td>\n",
              "      <td>N=C1OC2C1CCC2=O</td>\n",
              "      <td>2.0</td>\n",
              "      <td>3.0</td>\n",
              "      <td>0.0</td>\n",
              "      <td>invalid value encountered in double_scalars (A...</td>\n",
              "      <td>invalid value encountered in double_scalars (A...</td>\n",
              "      <td>1.6666666666666667</td>\n",
              "      <td>1.375</td>\n",
              "      <td>1.0</td>\n",
              "      <td>...</td>\n",
              "      <td>float division by zero (MDEC-44)</td>\n",
              "      <td>float division by zero (MDEO-11)</td>\n",
              "      <td>0.33333333333333337</td>\n",
              "      <td>float division by zero (MDEO-22)</td>\n",
              "      <td>float division by zero (MDEN-11)</td>\n",
              "      <td>float division by zero (MDEN-12)</td>\n",
              "      <td>float division by zero (MDEN-13)</td>\n",
              "      <td>float division by zero (MDEN-22)</td>\n",
              "      <td>float division by zero (MDEN-23)</td>\n",
              "      <td>float division by zero (MDEN-33)</td>\n",
              "    </tr>\n",
              "    <tr>\n",
              "      <th>...</th>\n",
              "      <td>...</td>\n",
              "      <td>...</td>\n",
              "      <td>...</td>\n",
              "      <td>...</td>\n",
              "      <td>...</td>\n",
              "      <td>...</td>\n",
              "      <td>...</td>\n",
              "      <td>...</td>\n",
              "      <td>...</td>\n",
              "      <td>...</td>\n",
              "      <td>...</td>\n",
              "      <td>...</td>\n",
              "      <td>...</td>\n",
              "      <td>...</td>\n",
              "      <td>...</td>\n",
              "      <td>...</td>\n",
              "      <td>...</td>\n",
              "      <td>...</td>\n",
              "      <td>...</td>\n",
              "      <td>...</td>\n",
              "      <td>...</td>\n",
              "    </tr>\n",
              "    <tr>\n",
              "      <th>19995</th>\n",
              "      <td>gdb_67709</td>\n",
              "      <td>CC12C3COC1OCC23</td>\n",
              "      <td>0.0</td>\n",
              "      <td>0.0</td>\n",
              "      <td>invalid value encountered in double_scalars (A...</td>\n",
              "      <td>invalid value encountered in double_scalars (A...</td>\n",
              "      <td>invalid value encountered in double_scalars (A...</td>\n",
              "      <td>1.488888888888889</td>\n",
              "      <td>1.0</td>\n",
              "      <td>invalid value encountered in double_scalars (A...</td>\n",
              "      <td>...</td>\n",
              "      <td>float division by zero (MDEC-44)</td>\n",
              "      <td>float division by zero (MDEO-11)</td>\n",
              "      <td>float division by zero (MDEO-12)</td>\n",
              "      <td>0.4999999999999999</td>\n",
              "      <td>float division by zero (MDEN-11)</td>\n",
              "      <td>float division by zero (MDEN-12)</td>\n",
              "      <td>float division by zero (MDEN-13)</td>\n",
              "      <td>float division by zero (MDEN-22)</td>\n",
              "      <td>float division by zero (MDEN-23)</td>\n",
              "      <td>float division by zero (MDEN-33)</td>\n",
              "    </tr>\n",
              "    <tr>\n",
              "      <th>19996</th>\n",
              "      <td>gdb_23674</td>\n",
              "      <td>c1c(ncnc1F)F</td>\n",
              "      <td>17.0</td>\n",
              "      <td>0.0</td>\n",
              "      <td>invalid value encountered in double_scalars (A...</td>\n",
              "      <td>invalid value encountered in double_scalars (A...</td>\n",
              "      <td>invalid value encountered in double_scalars (A...</td>\n",
              "      <td>1.5714285714285714</td>\n",
              "      <td>1.0</td>\n",
              "      <td>invalid value encountered in double_scalars (A...</td>\n",
              "      <td>...</td>\n",
              "      <td>float division by zero (MDEC-44)</td>\n",
              "      <td>float division by zero (MDEO-11)</td>\n",
              "      <td>float division by zero (MDEO-12)</td>\n",
              "      <td>float division by zero (MDEO-22)</td>\n",
              "      <td>float division by zero (MDEN-11)</td>\n",
              "      <td>float division by zero (MDEN-12)</td>\n",
              "      <td>float division by zero (MDEN-13)</td>\n",
              "      <td>0.4999999999999999</td>\n",
              "      <td>float division by zero (MDEN-23)</td>\n",
              "      <td>float division by zero (MDEN-33)</td>\n",
              "    </tr>\n",
              "    <tr>\n",
              "      <th>19997</th>\n",
              "      <td>gdb_45091</td>\n",
              "      <td>O=C1CC2NC2C2CN12</td>\n",
              "      <td>1.3548387096774193</td>\n",
              "      <td>0.0</td>\n",
              "      <td>invalid value encountered in double_scalars (A...</td>\n",
              "      <td>invalid value encountered in double_scalars (A...</td>\n",
              "      <td>invalid value encountered in double_scalars (A...</td>\n",
              "      <td>1.903225806451613</td>\n",
              "      <td>1.0</td>\n",
              "      <td>invalid value encountered in double_scalars (A...</td>\n",
              "      <td>...</td>\n",
              "      <td>float division by zero (MDEC-44)</td>\n",
              "      <td>float division by zero (MDEO-11)</td>\n",
              "      <td>float division by zero (MDEO-12)</td>\n",
              "      <td>float division by zero (MDEO-22)</td>\n",
              "      <td>float division by zero (MDEN-11)</td>\n",
              "      <td>float division by zero (MDEN-12)</td>\n",
              "      <td>float division by zero (MDEN-13)</td>\n",
              "      <td>float division by zero (MDEN-22)</td>\n",
              "      <td>0.33333333333333337</td>\n",
              "      <td>float division by zero (MDEN-33)</td>\n",
              "    </tr>\n",
              "    <tr>\n",
              "      <th>19998</th>\n",
              "      <td>gdb_52674</td>\n",
              "      <td>CC#CC(O)C1(C)CC1</td>\n",
              "      <td>0.6304347826086957</td>\n",
              "      <td>0.18518518518518517</td>\n",
              "      <td>0.0</td>\n",
              "      <td>0.0</td>\n",
              "      <td>invalid value encountered in double_scalars (A...</td>\n",
              "      <td>1.565217391304348</td>\n",
              "      <td>1.6666666666666667</td>\n",
              "      <td>1.3157894736842106</td>\n",
              "      <td>...</td>\n",
              "      <td>float division by zero (MDEC-44)</td>\n",
              "      <td>float division by zero (MDEO-11)</td>\n",
              "      <td>float division by zero (MDEO-12)</td>\n",
              "      <td>float division by zero (MDEO-22)</td>\n",
              "      <td>float division by zero (MDEN-11)</td>\n",
              "      <td>float division by zero (MDEN-12)</td>\n",
              "      <td>float division by zero (MDEN-13)</td>\n",
              "      <td>float division by zero (MDEN-22)</td>\n",
              "      <td>float division by zero (MDEN-23)</td>\n",
              "      <td>float division by zero (MDEN-33)</td>\n",
              "    </tr>\n",
              "    <tr>\n",
              "      <th>19999</th>\n",
              "      <td>gdb_122284</td>\n",
              "      <td>CCCOC12CC(C1)C2</td>\n",
              "      <td>0.5365853658536586</td>\n",
              "      <td>0.35294117647058826</td>\n",
              "      <td>0.09090909090909091</td>\n",
              "      <td>0.0</td>\n",
              "      <td>0.0</td>\n",
              "      <td>1.951219512195122</td>\n",
              "      <td>2.0</td>\n",
              "      <td>1.4848484848484849</td>\n",
              "      <td>...</td>\n",
              "      <td>float division by zero (MDEC-44)</td>\n",
              "      <td>float division by zero (MDEO-11)</td>\n",
              "      <td>float division by zero (MDEO-12)</td>\n",
              "      <td>float division by zero (MDEO-22)</td>\n",
              "      <td>float division by zero (MDEN-11)</td>\n",
              "      <td>float division by zero (MDEN-12)</td>\n",
              "      <td>float division by zero (MDEN-13)</td>\n",
              "      <td>float division by zero (MDEN-22)</td>\n",
              "      <td>float division by zero (MDEN-23)</td>\n",
              "      <td>float division by zero (MDEN-33)</td>\n",
              "    </tr>\n",
              "  </tbody>\n",
              "</table>\n",
              "<p>20000 rows × 440 columns</p>\n",
              "</div>\n",
              "    <div class=\"colab-df-buttons\">\n",
              "\n",
              "  <div class=\"colab-df-container\">\n",
              "    <button class=\"colab-df-convert\" onclick=\"convertToInteractive('df-761b2877-d5ce-45e6-aed8-c71ea471243e')\"\n",
              "            title=\"Convert this dataframe to an interactive table.\"\n",
              "            style=\"display:none;\">\n",
              "\n",
              "  <svg xmlns=\"http://www.w3.org/2000/svg\" height=\"24px\" viewBox=\"0 -960 960 960\">\n",
              "    <path d=\"M120-120v-720h720v720H120Zm60-500h600v-160H180v160Zm220 220h160v-160H400v160Zm0 220h160v-160H400v160ZM180-400h160v-160H180v160Zm440 0h160v-160H620v160ZM180-180h160v-160H180v160Zm440 0h160v-160H620v160Z\"/>\n",
              "  </svg>\n",
              "    </button>\n",
              "\n",
              "  <style>\n",
              "    .colab-df-container {\n",
              "      display:flex;\n",
              "      gap: 12px;\n",
              "    }\n",
              "\n",
              "    .colab-df-convert {\n",
              "      background-color: #E8F0FE;\n",
              "      border: none;\n",
              "      border-radius: 50%;\n",
              "      cursor: pointer;\n",
              "      display: none;\n",
              "      fill: #1967D2;\n",
              "      height: 32px;\n",
              "      padding: 0 0 0 0;\n",
              "      width: 32px;\n",
              "    }\n",
              "\n",
              "    .colab-df-convert:hover {\n",
              "      background-color: #E2EBFA;\n",
              "      box-shadow: 0px 1px 2px rgba(60, 64, 67, 0.3), 0px 1px 3px 1px rgba(60, 64, 67, 0.15);\n",
              "      fill: #174EA6;\n",
              "    }\n",
              "\n",
              "    .colab-df-buttons div {\n",
              "      margin-bottom: 4px;\n",
              "    }\n",
              "\n",
              "    [theme=dark] .colab-df-convert {\n",
              "      background-color: #3B4455;\n",
              "      fill: #D2E3FC;\n",
              "    }\n",
              "\n",
              "    [theme=dark] .colab-df-convert:hover {\n",
              "      background-color: #434B5C;\n",
              "      box-shadow: 0px 1px 3px 1px rgba(0, 0, 0, 0.15);\n",
              "      filter: drop-shadow(0px 1px 2px rgba(0, 0, 0, 0.3));\n",
              "      fill: #FFFFFF;\n",
              "    }\n",
              "  </style>\n",
              "\n",
              "    <script>\n",
              "      const buttonEl =\n",
              "        document.querySelector('#df-761b2877-d5ce-45e6-aed8-c71ea471243e button.colab-df-convert');\n",
              "      buttonEl.style.display =\n",
              "        google.colab.kernel.accessAllowed ? 'block' : 'none';\n",
              "\n",
              "      async function convertToInteractive(key) {\n",
              "        const element = document.querySelector('#df-761b2877-d5ce-45e6-aed8-c71ea471243e');\n",
              "        const dataTable =\n",
              "          await google.colab.kernel.invokeFunction('convertToInteractive',\n",
              "                                                    [key], {});\n",
              "        if (!dataTable) return;\n",
              "\n",
              "        const docLinkHtml = 'Like what you see? Visit the ' +\n",
              "          '<a target=\"_blank\" href=https://colab.research.google.com/notebooks/data_table.ipynb>data table notebook</a>'\n",
              "          + ' to learn more about interactive tables.';\n",
              "        element.innerHTML = '';\n",
              "        dataTable['output_type'] = 'display_data';\n",
              "        await google.colab.output.renderOutput(dataTable, element);\n",
              "        const docLink = document.createElement('div');\n",
              "        docLink.innerHTML = docLinkHtml;\n",
              "        element.appendChild(docLink);\n",
              "      }\n",
              "    </script>\n",
              "  </div>\n",
              "\n",
              "\n",
              "<div id=\"df-f2a1c391-0603-46b8-8e5a-aacf1cec1e4a\">\n",
              "  <button class=\"colab-df-quickchart\" onclick=\"quickchart('df-f2a1c391-0603-46b8-8e5a-aacf1cec1e4a')\"\n",
              "            title=\"Suggest charts\"\n",
              "            style=\"display:none;\">\n",
              "\n",
              "<svg xmlns=\"http://www.w3.org/2000/svg\" height=\"24px\"viewBox=\"0 0 24 24\"\n",
              "     width=\"24px\">\n",
              "    <g>\n",
              "        <path d=\"M19 3H5c-1.1 0-2 .9-2 2v14c0 1.1.9 2 2 2h14c1.1 0 2-.9 2-2V5c0-1.1-.9-2-2-2zM9 17H7v-7h2v7zm4 0h-2V7h2v10zm4 0h-2v-4h2v4z\"/>\n",
              "    </g>\n",
              "</svg>\n",
              "  </button>\n",
              "\n",
              "<style>\n",
              "  .colab-df-quickchart {\n",
              "      --bg-color: #E8F0FE;\n",
              "      --fill-color: #1967D2;\n",
              "      --hover-bg-color: #E2EBFA;\n",
              "      --hover-fill-color: #174EA6;\n",
              "      --disabled-fill-color: #AAA;\n",
              "      --disabled-bg-color: #DDD;\n",
              "  }\n",
              "\n",
              "  [theme=dark] .colab-df-quickchart {\n",
              "      --bg-color: #3B4455;\n",
              "      --fill-color: #D2E3FC;\n",
              "      --hover-bg-color: #434B5C;\n",
              "      --hover-fill-color: #FFFFFF;\n",
              "      --disabled-bg-color: #3B4455;\n",
              "      --disabled-fill-color: #666;\n",
              "  }\n",
              "\n",
              "  .colab-df-quickchart {\n",
              "    background-color: var(--bg-color);\n",
              "    border: none;\n",
              "    border-radius: 50%;\n",
              "    cursor: pointer;\n",
              "    display: none;\n",
              "    fill: var(--fill-color);\n",
              "    height: 32px;\n",
              "    padding: 0;\n",
              "    width: 32px;\n",
              "  }\n",
              "\n",
              "  .colab-df-quickchart:hover {\n",
              "    background-color: var(--hover-bg-color);\n",
              "    box-shadow: 0 1px 2px rgba(60, 64, 67, 0.3), 0 1px 3px 1px rgba(60, 64, 67, 0.15);\n",
              "    fill: var(--button-hover-fill-color);\n",
              "  }\n",
              "\n",
              "  .colab-df-quickchart-complete:disabled,\n",
              "  .colab-df-quickchart-complete:disabled:hover {\n",
              "    background-color: var(--disabled-bg-color);\n",
              "    fill: var(--disabled-fill-color);\n",
              "    box-shadow: none;\n",
              "  }\n",
              "\n",
              "  .colab-df-spinner {\n",
              "    border: 2px solid var(--fill-color);\n",
              "    border-color: transparent;\n",
              "    border-bottom-color: var(--fill-color);\n",
              "    animation:\n",
              "      spin 1s steps(1) infinite;\n",
              "  }\n",
              "\n",
              "  @keyframes spin {\n",
              "    0% {\n",
              "      border-color: transparent;\n",
              "      border-bottom-color: var(--fill-color);\n",
              "      border-left-color: var(--fill-color);\n",
              "    }\n",
              "    20% {\n",
              "      border-color: transparent;\n",
              "      border-left-color: var(--fill-color);\n",
              "      border-top-color: var(--fill-color);\n",
              "    }\n",
              "    30% {\n",
              "      border-color: transparent;\n",
              "      border-left-color: var(--fill-color);\n",
              "      border-top-color: var(--fill-color);\n",
              "      border-right-color: var(--fill-color);\n",
              "    }\n",
              "    40% {\n",
              "      border-color: transparent;\n",
              "      border-right-color: var(--fill-color);\n",
              "      border-top-color: var(--fill-color);\n",
              "    }\n",
              "    60% {\n",
              "      border-color: transparent;\n",
              "      border-right-color: var(--fill-color);\n",
              "    }\n",
              "    80% {\n",
              "      border-color: transparent;\n",
              "      border-right-color: var(--fill-color);\n",
              "      border-bottom-color: var(--fill-color);\n",
              "    }\n",
              "    90% {\n",
              "      border-color: transparent;\n",
              "      border-bottom-color: var(--fill-color);\n",
              "    }\n",
              "  }\n",
              "</style>\n",
              "\n",
              "  <script>\n",
              "    async function quickchart(key) {\n",
              "      const quickchartButtonEl =\n",
              "        document.querySelector('#' + key + ' button');\n",
              "      quickchartButtonEl.disabled = true;  // To prevent multiple clicks.\n",
              "      quickchartButtonEl.classList.add('colab-df-spinner');\n",
              "      try {\n",
              "        const charts = await google.colab.kernel.invokeFunction(\n",
              "            'suggestCharts', [key], {});\n",
              "      } catch (error) {\n",
              "        console.error('Error during call to suggestCharts:', error);\n",
              "      }\n",
              "      quickchartButtonEl.classList.remove('colab-df-spinner');\n",
              "      quickchartButtonEl.classList.add('colab-df-quickchart-complete');\n",
              "    }\n",
              "    (() => {\n",
              "      let quickchartButtonEl =\n",
              "        document.querySelector('#df-f2a1c391-0603-46b8-8e5a-aacf1cec1e4a button');\n",
              "      quickchartButtonEl.style.display =\n",
              "        google.colab.kernel.accessAllowed ? 'block' : 'none';\n",
              "    })();\n",
              "  </script>\n",
              "</div>\n",
              "    </div>\n",
              "  </div>\n"
            ],
            "text/plain": [
              "           mol_id            smiles             AATS4dv              AATS5dv  \\\n",
              "0       gdb_89835  OC1CC2(CC2)CC1=O  0.9777777777777777                  0.0   \n",
              "1       gdb_36873    C1CC1NC2=NCCO2  2.5454545454545454   0.7272727272727273   \n",
              "2       gdb_19320   C#CC12CC1C1OC21   1.588235294117647                  0.0   \n",
              "3       gdb_96404      CC1OCOCC1C#C  1.2926829268292683  0.20689655172413793   \n",
              "4       gdb_44243   N=C1OC2C1CCC2=O                 2.0                  3.0   \n",
              "...           ...               ...                 ...                  ...   \n",
              "19995   gdb_67709   CC12C3COC1OCC23                 0.0                  0.0   \n",
              "19996   gdb_23674      c1c(ncnc1F)F                17.0                  0.0   \n",
              "19997   gdb_45091  O=C1CC2NC2C2CN12  1.3548387096774193                  0.0   \n",
              "19998   gdb_52674  CC#CC(O)C1(C)CC1  0.6304347826086957  0.18518518518518517   \n",
              "19999  gdb_122284   CCCOC12CC(C1)C2  0.5365853658536586  0.35294117647058826   \n",
              "\n",
              "                                                 AATS6dv  \\\n",
              "0                                                    0.0   \n",
              "1                                                    0.0   \n",
              "2                                                    0.0   \n",
              "3                                                    0.0   \n",
              "4                                                    0.0   \n",
              "...                                                  ...   \n",
              "19995  invalid value encountered in double_scalars (A...   \n",
              "19996  invalid value encountered in double_scalars (A...   \n",
              "19997  invalid value encountered in double_scalars (A...   \n",
              "19998                                                0.0   \n",
              "19999                                0.09090909090909091   \n",
              "\n",
              "                                                 AATS7dv  \\\n",
              "0      invalid value encountered in double_scalars (A...   \n",
              "1                                                    0.0   \n",
              "2      invalid value encountered in double_scalars (A...   \n",
              "3                                                    0.0   \n",
              "4      invalid value encountered in double_scalars (A...   \n",
              "...                                                  ...   \n",
              "19995  invalid value encountered in double_scalars (A...   \n",
              "19996  invalid value encountered in double_scalars (A...   \n",
              "19997  invalid value encountered in double_scalars (A...   \n",
              "19998                                                0.0   \n",
              "19999                                                0.0   \n",
              "\n",
              "                                                 AATS8dv              AATS4d  \\\n",
              "0      invalid value encountered in double_scalars (A...  1.5777777777777777   \n",
              "1      invalid value encountered in double_scalars (A...   2.727272727272727   \n",
              "2      invalid value encountered in double_scalars (A...  1.6470588235294117   \n",
              "3      invalid value encountered in double_scalars (A...  1.6341463414634145   \n",
              "4      invalid value encountered in double_scalars (A...  1.6666666666666667   \n",
              "...                                                  ...                 ...   \n",
              "19995  invalid value encountered in double_scalars (A...   1.488888888888889   \n",
              "19996  invalid value encountered in double_scalars (A...  1.5714285714285714   \n",
              "19997  invalid value encountered in double_scalars (A...   1.903225806451613   \n",
              "19998  invalid value encountered in double_scalars (A...   1.565217391304348   \n",
              "19999                                                0.0   1.951219512195122   \n",
              "\n",
              "                   AATS5d                                             AATS6d  \\\n",
              "0                   1.125                                                1.0   \n",
              "1      2.3636363636363638                                                1.8   \n",
              "2      1.4285714285714286                                                1.0   \n",
              "3      1.2758620689655173                                 1.1666666666666667   \n",
              "4                   1.375                                                1.0   \n",
              "...                   ...                                                ...   \n",
              "19995                 1.0  invalid value encountered in double_scalars (A...   \n",
              "19996                 1.0  invalid value encountered in double_scalars (A...   \n",
              "19997                 1.0  invalid value encountered in double_scalars (A...   \n",
              "19998  1.6666666666666667                                 1.3157894736842106   \n",
              "19999                 2.0                                 1.4848484848484849   \n",
              "\n",
              "       ...                           MDEC-44  \\\n",
              "0      ...  float division by zero (MDEC-44)   \n",
              "1      ...  float division by zero (MDEC-44)   \n",
              "2      ...  float division by zero (MDEC-44)   \n",
              "3      ...  float division by zero (MDEC-44)   \n",
              "4      ...  float division by zero (MDEC-44)   \n",
              "...    ...                               ...   \n",
              "19995  ...  float division by zero (MDEC-44)   \n",
              "19996  ...  float division by zero (MDEC-44)   \n",
              "19997  ...  float division by zero (MDEC-44)   \n",
              "19998  ...  float division by zero (MDEC-44)   \n",
              "19999  ...  float division by zero (MDEC-44)   \n",
              "\n",
              "                                MDEO-11                           MDEO-12  \\\n",
              "0                   0.33333333333333337  float division by zero (MDEO-12)   \n",
              "1      float division by zero (MDEO-11)  float division by zero (MDEO-12)   \n",
              "2      float division by zero (MDEO-11)  float division by zero (MDEO-12)   \n",
              "3      float division by zero (MDEO-11)  float division by zero (MDEO-12)   \n",
              "4      float division by zero (MDEO-11)               0.33333333333333337   \n",
              "...                                 ...                               ...   \n",
              "19995  float division by zero (MDEO-11)  float division by zero (MDEO-12)   \n",
              "19996  float division by zero (MDEO-11)  float division by zero (MDEO-12)   \n",
              "19997  float division by zero (MDEO-11)  float division by zero (MDEO-12)   \n",
              "19998  float division by zero (MDEO-11)  float division by zero (MDEO-12)   \n",
              "19999  float division by zero (MDEO-11)  float division by zero (MDEO-12)   \n",
              "\n",
              "                                MDEO-22                           MDEN-11  \\\n",
              "0      float division by zero (MDEO-22)  float division by zero (MDEN-11)   \n",
              "1      float division by zero (MDEO-22)  float division by zero (MDEN-11)   \n",
              "2      float division by zero (MDEO-22)  float division by zero (MDEN-11)   \n",
              "3                    0.4999999999999999  float division by zero (MDEN-11)   \n",
              "4      float division by zero (MDEO-22)  float division by zero (MDEN-11)   \n",
              "...                                 ...                               ...   \n",
              "19995                0.4999999999999999  float division by zero (MDEN-11)   \n",
              "19996  float division by zero (MDEO-22)  float division by zero (MDEN-11)   \n",
              "19997  float division by zero (MDEO-22)  float division by zero (MDEN-11)   \n",
              "19998  float division by zero (MDEO-22)  float division by zero (MDEN-11)   \n",
              "19999  float division by zero (MDEO-22)  float division by zero (MDEN-11)   \n",
              "\n",
              "                                MDEN-12                           MDEN-13  \\\n",
              "0      float division by zero (MDEN-12)  float division by zero (MDEN-13)   \n",
              "1      float division by zero (MDEN-12)  float division by zero (MDEN-13)   \n",
              "2      float division by zero (MDEN-12)  float division by zero (MDEN-13)   \n",
              "3      float division by zero (MDEN-12)  float division by zero (MDEN-13)   \n",
              "4      float division by zero (MDEN-12)  float division by zero (MDEN-13)   \n",
              "...                                 ...                               ...   \n",
              "19995  float division by zero (MDEN-12)  float division by zero (MDEN-13)   \n",
              "19996  float division by zero (MDEN-12)  float division by zero (MDEN-13)   \n",
              "19997  float division by zero (MDEN-12)  float division by zero (MDEN-13)   \n",
              "19998  float division by zero (MDEN-12)  float division by zero (MDEN-13)   \n",
              "19999  float division by zero (MDEN-12)  float division by zero (MDEN-13)   \n",
              "\n",
              "                                MDEN-22                           MDEN-23  \\\n",
              "0      float division by zero (MDEN-22)  float division by zero (MDEN-23)   \n",
              "1                    0.4999999999999999  float division by zero (MDEN-23)   \n",
              "2      float division by zero (MDEN-22)  float division by zero (MDEN-23)   \n",
              "3      float division by zero (MDEN-22)  float division by zero (MDEN-23)   \n",
              "4      float division by zero (MDEN-22)  float division by zero (MDEN-23)   \n",
              "...                                 ...                               ...   \n",
              "19995  float division by zero (MDEN-22)  float division by zero (MDEN-23)   \n",
              "19996                0.4999999999999999  float division by zero (MDEN-23)   \n",
              "19997  float division by zero (MDEN-22)               0.33333333333333337   \n",
              "19998  float division by zero (MDEN-22)  float division by zero (MDEN-23)   \n",
              "19999  float division by zero (MDEN-22)  float division by zero (MDEN-23)   \n",
              "\n",
              "                                MDEN-33  \n",
              "0      float division by zero (MDEN-33)  \n",
              "1      float division by zero (MDEN-33)  \n",
              "2      float division by zero (MDEN-33)  \n",
              "3      float division by zero (MDEN-33)  \n",
              "4      float division by zero (MDEN-33)  \n",
              "...                                 ...  \n",
              "19995  float division by zero (MDEN-33)  \n",
              "19996  float division by zero (MDEN-33)  \n",
              "19997  float division by zero (MDEN-33)  \n",
              "19998  float division by zero (MDEN-33)  \n",
              "19999  float division by zero (MDEN-33)  \n",
              "\n",
              "[20000 rows x 440 columns]"
            ]
          },
          "execution_count": 8,
          "metadata": {},
          "output_type": "execute_result"
        }
      ],
      "source": [
        "df_cat"
      ]
    },
    {
      "cell_type": "code",
      "execution_count": null,
      "id": "afbcc945-3f86-4c51-ad06-1dcc469984ca",
      "metadata": {
        "id": "afbcc945-3f86-4c51-ad06-1dcc469984ca"
      },
      "outputs": [],
      "source": [
        "# Replace errors in unloading descriptors with NaN values\n",
        "for col in categorical_columns:\n",
        "    df[col] = df[col].replace(to_replace=[r'^invalid value.*', r'^float division.*', r'^max().*', r'^min().*', r'^module.*' ],\n",
        "                              value=np.nan, regex=True).infer_objects()"
      ]
    },
    {
      "cell_type": "code",
      "execution_count": null,
      "id": "0b504e9d-5caf-47b0-bd7b-2f2cde50e8c2",
      "metadata": {
        "id": "0b504e9d-5caf-47b0-bd7b-2f2cde50e8c2"
      },
      "outputs": [],
      "source": [
        "numeric_like_columns = []\n",
        "for col in df.columns:\n",
        "    try:\n",
        "        # Try to convert the values in the column into numbers\n",
        "        pd.to_numeric(df[col])\n",
        "        # If successful, add the column to the list of numeric_like_columns\n",
        "        numeric_like_columns.append(col)\n",
        "    except ValueError:\n",
        "        # If the conversion causes an error, it means that the column does not contain only numbers\n",
        "        pass\n",
        "\n",
        "# Changing data type to float\n",
        "df[numeric_like_columns] = df[numeric_like_columns].astype(float)"
      ]
    },
    {
      "cell_type": "code",
      "execution_count": null,
      "id": "54b0a9f3-59c1-4471-b031-0b34c63fe8ad",
      "metadata": {
        "colab": {
          "base_uri": "https://localhost:8080/"
        },
        "id": "54b0a9f3-59c1-4471-b031-0b34c63fe8ad",
        "outputId": "75470992-111d-490e-977e-d5d36d7edd12"
      },
      "outputs": [
        {
          "name": "stdout",
          "output_type": "stream",
          "text": [
            "Количество колонок с числовыми признаками: 1837\n",
            "Количество колонок с категориальными признаками: 3\n",
            "Количество колонок с булевыми значениями: 0\n"
          ]
        }
      ],
      "source": [
        "numeric_columns = df.select_dtypes(include=['float64', 'int64']).columns\n",
        "categorical_columns = df.select_dtypes(include=['object']).columns\n",
        "boolean_columns = df.select_dtypes(include=['bool']).columns\n",
        "print ('Количество колонок с числовыми признаками:', len(numeric_columns))\n",
        "print ('Количество колонок с категориальными признаками:', len(categorical_columns))\n",
        "print ('Количество колонок с булевыми значениями:', len(boolean_columns))"
      ]
    },
    {
      "cell_type": "code",
      "execution_count": null,
      "id": "22db5979-aed8-454b-8843-8bb3bf733193",
      "metadata": {
        "id": "22db5979-aed8-454b-8843-8bb3bf733193"
      },
      "outputs": [],
      "source": [
        "# Delete columns with the number of zero values greater than 1000 (5% of the dataset)\n",
        "THRESHOLD = 1000\n",
        "df.dropna(thresh=len(df) - THRESHOLD, axis=1, inplace=True)"
      ]
    },
    {
      "cell_type": "code",
      "execution_count": null,
      "id": "71bc7911-c849-44b0-ae66-4786855c247a",
      "metadata": {
        "id": "71bc7911-c849-44b0-ae66-4786855c247a",
        "outputId": "7958e625-e5c9-482a-cd8e-fd24e13a764d"
      },
      "outputs": [
        {
          "name": "stdout",
          "output_type": "stream",
          "text": [
            "Количество колонок с числовыми признаками: 1501\n",
            "Количество колонок с категориальными признаками: 3\n",
            "Количество колонок с булевыми значениями: 0\n"
          ]
        }
      ],
      "source": [
        "numeric_columns = df.select_dtypes(include=['float64', 'int64']).columns\n",
        "categorical_columns = df.select_dtypes(include=['object']).columns\n",
        "boolean_columns = df.select_dtypes(include=['bool']).columns\n",
        "print ('Количество колонок с числовыми признаками:', len(numeric_columns))\n",
        "print ('Количество колонок с категориальными признаками:', len(categorical_columns))\n",
        "print ('Количество колонок с булевыми значениями:', len(boolean_columns))"
      ]
    },
    {
      "cell_type": "code",
      "execution_count": null,
      "id": "96c8bf30-d140-4214-b2e7-a7c178629263",
      "metadata": {
        "id": "96c8bf30-d140-4214-b2e7-a7c178629263",
        "outputId": "c95d04ae-1a28-42a4-e664-35e42da25f45"
      },
      "outputs": [
        {
          "data": {
            "text/plain": [
              "Index(['mol_id', 'smiles', 'HybRatio'], dtype='object')"
            ]
          },
          "execution_count": 48,
          "metadata": {},
          "output_type": "execute_result"
        }
      ],
      "source": [
        "categorical_columns"
      ]
    },
    {
      "cell_type": "code",
      "execution_count": null,
      "id": "ff375603-0e1c-43cb-93b2-a3635174d30d",
      "metadata": {
        "colab": {
          "base_uri": "https://localhost:8080/"
        },
        "id": "ff375603-0e1c-43cb-93b2-a3635174d30d",
        "outputId": "288f0196-27bc-4d27-c700-028487da518f"
      },
      "outputs": [
        {
          "data": {
            "text/plain": [
              "1.0                                            7133\n",
              "0.8333333333333334                             2071\n",
              "0.8                                            1261\n",
              "0.8571428571428571                             1199\n",
              "0.5                                            1012\n",
              "0.75                                            967\n",
              "0.0                                             954\n",
              "0.6666666666666666                              880\n",
              "0.6                                             783\n",
              "0.7142857142857143                              531\n",
              "0.3333333333333333                              505\n",
              "0.25                                            479\n",
              "0.4                                             477\n",
              "0.2                                             444\n",
              "0.5714285714285714                              393\n",
              "0.16666666666666666                             180\n",
              "0.875                                           180\n",
              "0.42857142857142855                             157\n",
              "0.7777777777777778                              140\n",
              "0.625                                            94\n",
              "0.2857142857142857                               71\n",
              "0.14285714285714285                              39\n",
              "0.5555555555555556                               35\n",
              "0.375                                            12\n",
              "0.125                                             2\n",
              "there are no sp3 and sp2 carbons (HybRatio)       1\n",
              "Name: HybRatio, dtype: int64"
            ]
          },
          "execution_count": 13,
          "metadata": {},
          "output_type": "execute_result"
        }
      ],
      "source": [
        "df.HybRatio.value_counts()"
      ]
    },
    {
      "cell_type": "code",
      "execution_count": null,
      "id": "02e5f50d-e0e1-4a76-847d-538fb30c05a9",
      "metadata": {
        "id": "02e5f50d-e0e1-4a76-847d-538fb30c05a9"
      },
      "outputs": [],
      "source": [
        "# Replace 'there are no sp3 and sp2 carbons' in unloading descriptors with NaN value\n",
        "for col in categorical_columns:\n",
        "    df[col] = df[col].replace(to_replace=[r'^there.*'],\n",
        "                              value=np.nan, regex=True).infer_objects()"
      ]
    },
    {
      "cell_type": "code",
      "execution_count": null,
      "id": "32384087-65e1-4aa3-a151-4a2b32366613",
      "metadata": {
        "colab": {
          "base_uri": "https://localhost:8080/"
        },
        "id": "32384087-65e1-4aa3-a151-4a2b32366613",
        "outputId": "72b64d81-037e-4363-d159-38035c7a8fe0"
      },
      "outputs": [
        {
          "data": {
            "text/plain": [
              "0        0.857143\n",
              "1        0.833333\n",
              "2        1.000000\n",
              "3        1.000000\n",
              "4        0.666667\n",
              "           ...   \n",
              "19995    1.000000\n",
              "19996    0.000000\n",
              "19997    0.833333\n",
              "19998    1.000000\n",
              "19999    1.000000\n",
              "Name: HybRatio, Length: 20000, dtype: float64"
            ]
          },
          "execution_count": 15,
          "metadata": {},
          "output_type": "execute_result"
        }
      ],
      "source": [
        "pd.to_numeric(df['HybRatio'])"
      ]
    },
    {
      "cell_type": "code",
      "execution_count": null,
      "id": "13203d0f-faeb-42fb-8288-3cc07c23c7e2",
      "metadata": {
        "colab": {
          "base_uri": "https://localhost:8080/"
        },
        "id": "13203d0f-faeb-42fb-8288-3cc07c23c7e2",
        "outputId": "705e65c5-1b91-403a-bbdd-9f9f4e0dcfc1"
      },
      "outputs": [
        {
          "name": "stdout",
          "output_type": "stream",
          "text": [
            "Количество колонок с числовыми признаками: 1502\n",
            "Количество колонок с категориальными признаками: 2\n",
            "Количество колонок с булевыми значениями: 0\n"
          ]
        }
      ],
      "source": [
        "numeric_columns = df.select_dtypes(include=['float64', 'int64']).columns\n",
        "categorical_columns = df.select_dtypes(include=['object']).columns\n",
        "boolean_columns = df.select_dtypes(include=['bool']).columns\n",
        "print ('Количество колонок с числовыми признаками:', len(numeric_columns))\n",
        "print ('Количество колонок с категориальными признаками:', len(categorical_columns))\n",
        "print ('Количество колонок с булевыми значениями:', len(boolean_columns))"
      ]
    },
    {
      "cell_type": "markdown",
      "id": "UGHLWjO7vYSc",
      "metadata": {
        "id": "UGHLWjO7vYSc"
      },
      "source": [
        "## Dealing with NaNs\n",
        "\n",
        "Since the missing values were mainly for the **same rows**, it was decided to **remove** them. The only missing value in the column `'HybRatio'` was filled by the mean."
      ]
    },
    {
      "cell_type": "code",
      "execution_count": null,
      "id": "9378e068-ccc8-4d1e-810a-28bc1d7457ef",
      "metadata": {
        "colab": {
          "base_uri": "https://localhost:8080/"
        },
        "id": "9378e068-ccc8-4d1e-810a-28bc1d7457ef",
        "outputId": "c321ba57-d3fa-4218-f935-43e4eb187b1b"
      },
      "outputs": [
        {
          "name": "stdout",
          "output_type": "stream",
          "text": [
            "<class 'pandas.core.frame.DataFrame'>\n",
            "RangeIndex: 20000 entries, 0 to 19999\n",
            "Columns: 1504 entries, mol_id to mZagreb2\n",
            "dtypes: float64(1502), object(2)\n",
            "memory usage: 229.5+ MB\n"
          ]
        }
      ],
      "source": [
        "df.info()"
      ]
    },
    {
      "cell_type": "code",
      "execution_count": null,
      "id": "Bq9KARSUvYSd",
      "metadata": {
        "id": "Bq9KARSUvYSd"
      },
      "outputs": [],
      "source": [
        "null_counts = df.isnull().sum()\n",
        "nulls = null_counts[null_counts > 0]"
      ]
    },
    {
      "cell_type": "code",
      "execution_count": null,
      "id": "OSeHddWwvYSd",
      "metadata": {
        "colab": {
          "base_uri": "https://localhost:8080/"
        },
        "id": "OSeHddWwvYSd",
        "outputId": "55fa3aa5-da87-47f4-863f-13d169c0c47a"
      },
      "outputs": [
        {
          "data": {
            "text/plain": [
              "AATS4dv      3\n",
              "AATS5dv     71\n",
              "AATS4d       3\n",
              "AATS5d      71\n",
              "AATS4s       3\n",
              "          ... \n",
              "AXp-5d     345\n",
              "AXp-3dv      2\n",
              "AXp-4dv     23\n",
              "AXp-5dv    345\n",
              "Kier3        2\n",
              "Length: 102, dtype: int64"
            ]
          },
          "execution_count": 54,
          "metadata": {},
          "output_type": "execute_result"
        }
      ],
      "source": [
        "nulls"
      ]
    },
    {
      "cell_type": "code",
      "execution_count": null,
      "id": "qmjai0xnvYSe",
      "metadata": {
        "id": "qmjai0xnvYSe"
      },
      "outputs": [],
      "source": [
        "df_without_NaN = df.dropna(subset=['AXp-5d', 'AATS5dv'])"
      ]
    },
    {
      "cell_type": "code",
      "execution_count": null,
      "id": "eXh7rl6hvYSf",
      "metadata": {
        "colab": {
          "base_uri": "https://localhost:8080/"
        },
        "id": "eXh7rl6hvYSf",
        "outputId": "f6244760-2383-4b31-dbf5-37b2e6469110"
      },
      "outputs": [
        {
          "data": {
            "text/plain": [
              "19616"
            ]
          },
          "execution_count": 56,
          "metadata": {},
          "output_type": "execute_result"
        }
      ],
      "source": [
        "len(df_without_NaN)"
      ]
    },
    {
      "cell_type": "code",
      "execution_count": null,
      "id": "dHIxBjUdvYSf",
      "metadata": {
        "colab": {
          "base_uri": "https://localhost:8080/"
        },
        "id": "dHIxBjUdvYSf",
        "outputId": "43649728-c04a-4367-eaf1-425987f4fa9b"
      },
      "outputs": [
        {
          "data": {
            "text/plain": [
              "HybRatio    1\n",
              "dtype: int64"
            ]
          },
          "execution_count": 57,
          "metadata": {},
          "output_type": "execute_result"
        }
      ],
      "source": [
        "null_counts = df_without_NaN.isnull().sum()\n",
        "nulls = null_counts[null_counts > 0]\n",
        "nulls"
      ]
    },
    {
      "cell_type": "code",
      "execution_count": null,
      "id": "qSutK0hMvYSf",
      "metadata": {
        "colab": {
          "base_uri": "https://localhost:8080/"
        },
        "id": "qSutK0hMvYSf",
        "outputId": "661756c7-d16d-4f0f-894b-083a27ed7db2"
      },
      "outputs": [
        {
          "name": "stderr",
          "output_type": "stream",
          "text": [
            "<ipython-input-58-2209788043a0>:2: SettingWithCopyWarning: \n",
            "A value is trying to be set on a copy of a slice from a DataFrame.\n",
            "Try using .loc[row_indexer,col_indexer] = value instead\n",
            "\n",
            "See the caveats in the documentation: https://pandas.pydata.org/pandas-docs/stable/user_guide/indexing.html#returning-a-view-versus-a-copy\n",
            "  df_without_NaN.loc[:, 'HybRatio'] = df_without_NaN['HybRatio'].fillna(mean_value)\n"
          ]
        }
      ],
      "source": [
        "mean_value = df_without_NaN['HybRatio'].mean()\n",
        "df_without_NaN.loc[:, 'HybRatio'] = df_without_NaN['HybRatio'].fillna(mean_value)"
      ]
    },
    {
      "cell_type": "code",
      "execution_count": null,
      "id": "ZCE4vUZTvYSg",
      "metadata": {
        "colab": {
          "base_uri": "https://localhost:8080/"
        },
        "id": "ZCE4vUZTvYSg",
        "outputId": "dedc4742-24b7-4062-bc38-046466cf967a"
      },
      "outputs": [
        {
          "data": {
            "text/plain": [
              "Series([], dtype: int64)"
            ]
          },
          "execution_count": 59,
          "metadata": {},
          "output_type": "execute_result"
        }
      ],
      "source": [
        "null_counts = df_without_NaN.isnull().sum()\n",
        "nulls = null_counts[null_counts > 0]\n",
        "nulls"
      ]
    },
    {
      "cell_type": "code",
      "execution_count": null,
      "id": "cKHuaTkovYSg",
      "metadata": {
        "colab": {
          "base_uri": "https://localhost:8080/"
        },
        "id": "cKHuaTkovYSg",
        "outputId": "2b5d499f-96ed-4c9e-bdc2-ec067368153a"
      },
      "outputs": [
        {
          "name": "stdout",
          "output_type": "stream",
          "text": [
            "<class 'pandas.core.frame.DataFrame'>\n",
            "Int64Index: 19616 entries, 0 to 19999\n",
            "Columns: 1504 entries, mol_id to mZagreb2\n",
            "dtypes: float64(1502), object(2)\n",
            "memory usage: 225.2+ MB\n"
          ]
        }
      ],
      "source": [
        "df_without_NaN.info()"
      ]
    },
    {
      "cell_type": "markdown",
      "id": "e71a9f59-1bf2-4b11-996a-0c737731a77b",
      "metadata": {
        "id": "e71a9f59-1bf2-4b11-996a-0c737731a77b"
      },
      "source": [
        "# Drop features with high correlation\n",
        "\n",
        "Features whose correlation between each other was more than $0{.}75$ were removed.\n",
        "\n",
        "Before analyzing **target value** `'gap'` as well as the parameters `'homo'` and `'lumo'` that directly correlate with the target value were removed from descriptors."
      ]
    },
    {
      "cell_type": "code",
      "execution_count": null,
      "id": "VoUj_Wz20_kd",
      "metadata": {
        "id": "VoUj_Wz20_kd"
      },
      "outputs": [],
      "source": [
        "df_num = df_without_NaN[numeric_columns].drop(['gap', 'homo', 'lumo'], axis = 1)"
      ]
    },
    {
      "cell_type": "code",
      "execution_count": null,
      "id": "I23tmsCg0_ke",
      "metadata": {
        "id": "I23tmsCg0_ke",
        "outputId": "f2179018-8aae-47dd-d6eb-fd11709587de"
      },
      "outputs": [
        {
          "name": "stdout",
          "output_type": "stream",
          "text": [
            "<class 'pandas.core.frame.DataFrame'>\n",
            "RangeIndex: 20000 entries, 0 to 19999\n",
            "Columns: 1501 entries, A to mZagreb2\n",
            "dtypes: float64(1501)\n",
            "memory usage: 229.0 MB\n"
          ]
        }
      ],
      "source": [
        "df_num.info()"
      ]
    },
    {
      "cell_type": "code",
      "execution_count": null,
      "id": "iwSJRiG1yBTQ",
      "metadata": {
        "colab": {
          "base_uri": "https://localhost:8080/"
        },
        "id": "iwSJRiG1yBTQ",
        "outputId": "ff5acbdc-6670-4bdd-fad5-f70c46f2d3e5"
      },
      "outputs": [
        {
          "name": "stdout",
          "output_type": "stream",
          "text": [
            "Количество признаков после удаления коррелирующих: 461\n"
          ]
        }
      ],
      "source": [
        "corr_matrix = df_num.corr().abs()\n",
        "\n",
        "# Creating a mask for the upper triangle of the correlation matrix\n",
        "upper = corr_matrix.where(np.triu(np.ones(corr_matrix.shape), k=1).astype(bool))\n",
        "\n",
        "# Finding indexes of columns with correlation greater than 0.75\n",
        "to_drop = [column for column in upper.columns if any(upper[column] > 0.75)]\n",
        "\n",
        "# Removal highly correlated features\n",
        "df_after_corr = df_num.drop(columns=to_drop)\n",
        "\n",
        "print(\"Количество признаков после удаления коррелирующих:\", df_after_corr.shape[1])"
      ]
    },
    {
      "cell_type": "code",
      "execution_count": null,
      "id": "JMpaP5aP0d2N",
      "metadata": {
        "colab": {
          "base_uri": "https://localhost:8080/"
        },
        "id": "JMpaP5aP0d2N",
        "outputId": "eb32d6e1-6eb7-434c-8135-ce30f114720a"
      },
      "outputs": [
        {
          "data": {
            "text/plain": [
              "1038"
            ]
          },
          "execution_count": 51,
          "metadata": {},
          "output_type": "execute_result"
        }
      ],
      "source": [
        "len(to_drop)"
      ]
    },
    {
      "cell_type": "code",
      "execution_count": null,
      "id": "34aa124b-d972-46b0-9784-19be485b59ac",
      "metadata": {
        "colab": {
          "base_uri": "https://localhost:8080/"
        },
        "id": "34aa124b-d972-46b0-9784-19be485b59ac",
        "outputId": "48b8591f-240f-4ec9-caa8-6dd58cb5d681"
      },
      "outputs": [
        {
          "name": "stdout",
          "output_type": "stream",
          "text": [
            "<class 'pandas.core.frame.DataFrame'>\n",
            "Int64Index: 19616 entries, 0 to 19999\n",
            "Columns: 461 entries, A to TopoShapeIndex\n",
            "dtypes: float64(461)\n",
            "memory usage: 69.1 MB\n"
          ]
        }
      ],
      "source": [
        "df_after_corr.info()"
      ]
    },
    {
      "cell_type": "markdown",
      "id": "6f544284-deda-4489-9979-0e64391fd911",
      "metadata": {
        "id": "6f544284-deda-4489-9979-0e64391fd911"
      },
      "source": [
        "# Drop features with (near-)zero variance\n",
        "\n",
        "Since columns with (near-)zero variance are not particularly informative we can remove them. For this we will use `VarianceThreshold`"
      ]
    },
    {
      "cell_type": "code",
      "execution_count": null,
      "id": "39015715-ce9a-4684-8e4a-568606e99b2a",
      "metadata": {
        "id": "39015715-ce9a-4684-8e4a-568606e99b2a"
      },
      "outputs": [],
      "source": [
        "from sklearn.feature_selection import VarianceThreshold"
      ]
    },
    {
      "cell_type": "code",
      "execution_count": null,
      "id": "b1060317-43d3-4c35-8242-c43fc21816c1",
      "metadata": {
        "colab": {
          "base_uri": "https://localhost:8080/",
          "height": 564
        },
        "id": "b1060317-43d3-4c35-8242-c43fc21816c1",
        "outputId": "f41a2a5d-ddb5-4ec1-a349-da46d665a33a"
      },
      "outputs": [
        {
          "data": {
            "image/png": "[encoded data removed]",
            "text/plain": [
              "<Figure size 1000x600 with 1 Axes>"
            ]
          },
          "metadata": {},
          "output_type": "display_data"
        }
      ],
      "source": [
        "features_to_plot = df_after_corr.iloc[:, 11:21]\n",
        "\n",
        "# Creating a boxplot for the selected attributes (not very representative, because features have different dimensions)\n",
        "plt.figure(figsize=(10, 6))\n",
        "features_to_plot.boxplot()\n",
        "plt.title('Boxplot для первых 10 признаков')\n",
        "plt.ylabel('Значение признака')\n",
        "plt.xlabel('Признаки')\n",
        "plt.show()"
      ]
    },
    {
      "cell_type": "code",
      "execution_count": null,
      "id": "22605f67-6658-4fba-b5a0-81e46d1d617d",
      "metadata": {
        "id": "22605f67-6658-4fba-b5a0-81e46d1d617d"
      },
      "outputs": [],
      "source": [
        "THRESHOLD = 0.01\n",
        "\n",
        "# Creating a VarianceThreshold object\n",
        "selector = VarianceThreshold(THRESHOLD)\n",
        "\n",
        "df_clean = df_after_corr.copy()\n",
        "selector.fit(df_clean)\n",
        "\n",
        "mask = selector.get_support()\n",
        "\n",
        "# Filtering: only features that pass the threshold\n",
        "df_clean = df_clean.loc[:, mask]"
      ]
    },
    {
      "cell_type": "code",
      "execution_count": null,
      "id": "5b18686f-bc4e-41e4-9374-599d398d5a56",
      "metadata": {
        "colab": {
          "base_uri": "https://localhost:8080/"
        },
        "id": "5b18686f-bc4e-41e4-9374-599d398d5a56",
        "outputId": "cc87bff9-8cd5-4e59-caf8-1c2ef74d6e8f"
      },
      "outputs": [
        {
          "name": "stdout",
          "output_type": "stream",
          "text": [
            "<class 'pandas.core.frame.DataFrame'>\n",
            "Int64Index: 19616 entries, 0 to 19999\n",
            "Columns: 204 entries, A to TopoShapeIndex\n",
            "dtypes: float64(204)\n",
            "memory usage: 30.7 MB\n"
          ]
        }
      ],
      "source": [
        "df_clean.info()"
      ]
    },
    {
      "cell_type": "markdown",
      "id": "0e5cd7e1-c37f-4c83-907f-aa2550136f59",
      "metadata": {
        "id": "0e5cd7e1-c37f-4c83-907f-aa2550136f59"
      },
      "source": [
        "# Save clean data"
      ]
    },
    {
      "cell_type": "code",
      "execution_count": null,
      "id": "e3387bf5-2bc3-4968-b247-07cfaf358c68",
      "metadata": {
        "id": "e3387bf5-2bc3-4968-b247-07cfaf358c68"
      },
      "outputs": [],
      "source": [
        "data_clean = df_without_NaN[['smiles', 'gap']].merge(df_clean, how='inner', left_index=True, right_index=True)"
      ]
    },
    {
      "cell_type": "code",
      "execution_count": null,
      "id": "BFoik6Ik2FeW",
      "metadata": {
        "colab": {
          "base_uri": "https://localhost:8080/",
          "height": 424
        },
        "id": "BFoik6Ik2FeW",
        "outputId": "d86ed58e-840f-4bfa-f4d8-66cd2406b652"
      },
      "outputs": [
        {
          "data": {
            "application/vnd.google.colaboratory.intrinsic+json": {
              "type": "dataframe",
              "variable_name": "data_clean"
            },
            "text/html": [
              "\n",
              "  <div id=\"df-64e9643c-9b55-4355-956c-76c3ca9ac2a2\" class=\"colab-df-container\">\n",
              "    <div>\n",
              "<style scoped>\n",
              "    .dataframe tbody tr th:only-of-type {\n",
              "        vertical-align: middle;\n",
              "    }\n",
              "\n",
              "    .dataframe tbody tr th {\n",
              "        vertical-align: top;\n",
              "    }\n",
              "\n",
              "    .dataframe thead th {\n",
              "        text-align: right;\n",
              "    }\n",
              "</style>\n",
              "<table border=\"1\" class=\"dataframe\">\n",
              "  <thead>\n",
              "    <tr style=\"text-align: right;\">\n",
              "      <th></th>\n",
              "      <th>smiles</th>\n",
              "      <th>gap</th>\n",
              "      <th>A</th>\n",
              "      <th>B</th>\n",
              "      <th>mu</th>\n",
              "      <th>alpha</th>\n",
              "      <th>u0</th>\n",
              "      <th>cv</th>\n",
              "      <th>MaxAbsEStateIndex</th>\n",
              "      <th>MinAbsEStateIndex</th>\n",
              "      <th>...</th>\n",
              "      <th>n4HRing</th>\n",
              "      <th>n6aRing</th>\n",
              "      <th>n5FRing</th>\n",
              "      <th>n6FRing</th>\n",
              "      <th>n7FRing</th>\n",
              "      <th>n8FRing</th>\n",
              "      <th>n9FRing</th>\n",
              "      <th>GGI4</th>\n",
              "      <th>Radius</th>\n",
              "      <th>TopoShapeIndex</th>\n",
              "    </tr>\n",
              "  </thead>\n",
              "  <tbody>\n",
              "    <tr>\n",
              "      <th>0</th>\n",
              "      <td>OC1CC2(CC2)CC1=O</td>\n",
              "      <td>0.2229</td>\n",
              "      <td>3.19334</td>\n",
              "      <td>1.22630</td>\n",
              "      <td>2.7195</td>\n",
              "      <td>75.40</td>\n",
              "      <td>-423.044181</td>\n",
              "      <td>32.436</td>\n",
              "      <td>10.779699</td>\n",
              "      <td>0.062500</td>\n",
              "      <td>...</td>\n",
              "      <td>0.0</td>\n",
              "      <td>0.0</td>\n",
              "      <td>0.0</td>\n",
              "      <td>0.0</td>\n",
              "      <td>0.0</td>\n",
              "      <td>0.0</td>\n",
              "      <td>0.0</td>\n",
              "      <td>0.250000</td>\n",
              "      <td>3.0</td>\n",
              "      <td>0.333333</td>\n",
              "    </tr>\n",
              "    <tr>\n",
              "      <th>1</th>\n",
              "      <td>C1CC1NC2=NCCO2</td>\n",
              "      <td>0.2788</td>\n",
              "      <td>4.92517</td>\n",
              "      <td>0.92431</td>\n",
              "      <td>1.3423</td>\n",
              "      <td>77.99</td>\n",
              "      <td>-419.210684</td>\n",
              "      <td>31.158</td>\n",
              "      <td>5.142639</td>\n",
              "      <td>0.668380</td>\n",
              "      <td>...</td>\n",
              "      <td>0.0</td>\n",
              "      <td>0.0</td>\n",
              "      <td>0.0</td>\n",
              "      <td>0.0</td>\n",
              "      <td>0.0</td>\n",
              "      <td>0.0</td>\n",
              "      <td>0.0</td>\n",
              "      <td>0.125000</td>\n",
              "      <td>3.0</td>\n",
              "      <td>0.666667</td>\n",
              "    </tr>\n",
              "    <tr>\n",
              "      <th>2</th>\n",
              "      <td>C#CC12CC1C1OC21</td>\n",
              "      <td>0.2499</td>\n",
              "      <td>4.99590</td>\n",
              "      <td>1.69319</td>\n",
              "      <td>1.4352</td>\n",
              "      <td>68.32</td>\n",
              "      <td>-345.287896</td>\n",
              "      <td>26.347</td>\n",
              "      <td>5.296806</td>\n",
              "      <td>0.268519</td>\n",
              "      <td>...</td>\n",
              "      <td>0.0</td>\n",
              "      <td>0.0</td>\n",
              "      <td>0.0</td>\n",
              "      <td>1.0</td>\n",
              "      <td>0.0</td>\n",
              "      <td>0.0</td>\n",
              "      <td>0.0</td>\n",
              "      <td>0.236111</td>\n",
              "      <td>2.0</td>\n",
              "      <td>1.000000</td>\n",
              "    </tr>\n",
              "    <tr>\n",
              "      <th>3</th>\n",
              "      <td>CC1OCOCC1C#C</td>\n",
              "      <td>0.3013</td>\n",
              "      <td>2.07981</td>\n",
              "      <td>1.71184</td>\n",
              "      <td>1.8563</td>\n",
              "      <td>76.89</td>\n",
              "      <td>-422.996522</td>\n",
              "      <td>33.086</td>\n",
              "      <td>5.183657</td>\n",
              "      <td>0.137731</td>\n",
              "      <td>...</td>\n",
              "      <td>0.0</td>\n",
              "      <td>0.0</td>\n",
              "      <td>0.0</td>\n",
              "      <td>0.0</td>\n",
              "      <td>0.0</td>\n",
              "      <td>0.0</td>\n",
              "      <td>0.0</td>\n",
              "      <td>0.262222</td>\n",
              "      <td>3.0</td>\n",
              "      <td>0.666667</td>\n",
              "    </tr>\n",
              "    <tr>\n",
              "      <th>4</th>\n",
              "      <td>N=C1OC2C1CCC2=O</td>\n",
              "      <td>0.2058</td>\n",
              "      <td>3.22781</td>\n",
              "      <td>1.45953</td>\n",
              "      <td>1.8143</td>\n",
              "      <td>69.64</td>\n",
              "      <td>-437.911449</td>\n",
              "      <td>27.818</td>\n",
              "      <td>10.759630</td>\n",
              "      <td>0.150463</td>\n",
              "      <td>...</td>\n",
              "      <td>1.0</td>\n",
              "      <td>0.0</td>\n",
              "      <td>0.0</td>\n",
              "      <td>0.0</td>\n",
              "      <td>1.0</td>\n",
              "      <td>0.0</td>\n",
              "      <td>0.0</td>\n",
              "      <td>0.316111</td>\n",
              "      <td>3.0</td>\n",
              "      <td>0.666667</td>\n",
              "    </tr>\n",
              "    <tr>\n",
              "      <th>...</th>\n",
              "      <td>...</td>\n",
              "      <td>...</td>\n",
              "      <td>...</td>\n",
              "      <td>...</td>\n",
              "      <td>...</td>\n",
              "      <td>...</td>\n",
              "      <td>...</td>\n",
              "      <td>...</td>\n",
              "      <td>...</td>\n",
              "      <td>...</td>\n",
              "      <td>...</td>\n",
              "      <td>...</td>\n",
              "      <td>...</td>\n",
              "      <td>...</td>\n",
              "      <td>...</td>\n",
              "      <td>...</td>\n",
              "      <td>...</td>\n",
              "      <td>...</td>\n",
              "      <td>...</td>\n",
              "      <td>...</td>\n",
              "      <td>...</td>\n",
              "    </tr>\n",
              "    <tr>\n",
              "      <th>19995</th>\n",
              "      <td>CC12C3COC1OCC23</td>\n",
              "      <td>0.3306</td>\n",
              "      <td>2.25194</td>\n",
              "      <td>1.97852</td>\n",
              "      <td>2.7998</td>\n",
              "      <td>73.16</td>\n",
              "      <td>-423.030803</td>\n",
              "      <td>29.065</td>\n",
              "      <td>5.386574</td>\n",
              "      <td>0.159722</td>\n",
              "      <td>...</td>\n",
              "      <td>0.0</td>\n",
              "      <td>0.0</td>\n",
              "      <td>0.0</td>\n",
              "      <td>0.0</td>\n",
              "      <td>0.0</td>\n",
              "      <td>1.0</td>\n",
              "      <td>0.0</td>\n",
              "      <td>0.000000</td>\n",
              "      <td>2.0</td>\n",
              "      <td>0.500000</td>\n",
              "    </tr>\n",
              "    <tr>\n",
              "      <th>19996</th>\n",
              "      <td>c1c(ncnc1F)F</td>\n",
              "      <td>0.2447</td>\n",
              "      <td>4.22771</td>\n",
              "      <td>1.81684</td>\n",
              "      <td>0.9724</td>\n",
              "      <td>50.29</td>\n",
              "      <td>-462.771586</td>\n",
              "      <td>20.489</td>\n",
              "      <td>11.776389</td>\n",
              "      <td>0.611111</td>\n",
              "      <td>...</td>\n",
              "      <td>0.0</td>\n",
              "      <td>1.0</td>\n",
              "      <td>0.0</td>\n",
              "      <td>0.0</td>\n",
              "      <td>0.0</td>\n",
              "      <td>0.0</td>\n",
              "      <td>0.0</td>\n",
              "      <td>0.222222</td>\n",
              "      <td>3.0</td>\n",
              "      <td>0.333333</td>\n",
              "    </tr>\n",
              "    <tr>\n",
              "      <th>19997</th>\n",
              "      <td>O=C1CC2NC2C2CN12</td>\n",
              "      <td>0.2524</td>\n",
              "      <td>2.47194</td>\n",
              "      <td>2.08198</td>\n",
              "      <td>4.9902</td>\n",
              "      <td>71.97</td>\n",
              "      <td>-417.993679</td>\n",
              "      <td>27.702</td>\n",
              "      <td>10.958750</td>\n",
              "      <td>0.353009</td>\n",
              "      <td>...</td>\n",
              "      <td>0.0</td>\n",
              "      <td>0.0</td>\n",
              "      <td>0.0</td>\n",
              "      <td>0.0</td>\n",
              "      <td>0.0</td>\n",
              "      <td>1.0</td>\n",
              "      <td>0.0</td>\n",
              "      <td>0.236111</td>\n",
              "      <td>3.0</td>\n",
              "      <td>0.333333</td>\n",
              "    </tr>\n",
              "    <tr>\n",
              "      <th>19998</th>\n",
              "      <td>CC#CC(O)C1(C)CC1</td>\n",
              "      <td>0.2877</td>\n",
              "      <td>2.63754</td>\n",
              "      <td>0.93810</td>\n",
              "      <td>1.9889</td>\n",
              "      <td>87.48</td>\n",
              "      <td>-387.053735</td>\n",
              "      <td>38.899</td>\n",
              "      <td>9.274583</td>\n",
              "      <td>0.141875</td>\n",
              "      <td>...</td>\n",
              "      <td>0.0</td>\n",
              "      <td>0.0</td>\n",
              "      <td>0.0</td>\n",
              "      <td>0.0</td>\n",
              "      <td>0.0</td>\n",
              "      <td>0.0</td>\n",
              "      <td>0.0</td>\n",
              "      <td>0.205000</td>\n",
              "      <td>3.0</td>\n",
              "      <td>0.666667</td>\n",
              "    </tr>\n",
              "    <tr>\n",
              "      <th>19999</th>\n",
              "      <td>CCCOC12CC(C1)C2</td>\n",
              "      <td>0.3385</td>\n",
              "      <td>4.69478</td>\n",
              "      <td>0.75544</td>\n",
              "      <td>0.9542</td>\n",
              "      <td>87.43</td>\n",
              "      <td>-388.243732</td>\n",
              "      <td>34.937</td>\n",
              "      <td>5.680556</td>\n",
              "      <td>0.417338</td>\n",
              "      <td>...</td>\n",
              "      <td>0.0</td>\n",
              "      <td>0.0</td>\n",
              "      <td>1.0</td>\n",
              "      <td>0.0</td>\n",
              "      <td>0.0</td>\n",
              "      <td>0.0</td>\n",
              "      <td>0.0</td>\n",
              "      <td>0.302222</td>\n",
              "      <td>3.0</td>\n",
              "      <td>1.000000</td>\n",
              "    </tr>\n",
              "  </tbody>\n",
              "</table>\n",
              "<p>19616 rows × 206 columns</p>\n",
              "</div>\n",
              "    <div class=\"colab-df-buttons\">\n",
              "\n",
              "  <div class=\"colab-df-container\">\n",
              "    <button class=\"colab-df-convert\" onclick=\"convertToInteractive('df-64e9643c-9b55-4355-956c-76c3ca9ac2a2')\"\n",
              "            title=\"Convert this dataframe to an interactive table.\"\n",
              "            style=\"display:none;\">\n",
              "\n",
              "  <svg xmlns=\"http://www.w3.org/2000/svg\" height=\"24px\" viewBox=\"0 -960 960 960\">\n",
              "    <path d=\"M120-120v-720h720v720H120Zm60-500h600v-160H180v160Zm220 220h160v-160H400v160Zm0 220h160v-160H400v160ZM180-400h160v-160H180v160Zm440 0h160v-160H620v160ZM180-180h160v-160H180v160Zm440 0h160v-160H620v160Z\"/>\n",
              "  </svg>\n",
              "    </button>\n",
              "\n",
              "  <style>\n",
              "    .colab-df-container {\n",
              "      display:flex;\n",
              "      gap: 12px;\n",
              "    }\n",
              "\n",
              "    .colab-df-convert {\n",
              "      background-color: #E8F0FE;\n",
              "      border: none;\n",
              "      border-radius: 50%;\n",
              "      cursor: pointer;\n",
              "      display: none;\n",
              "      fill: #1967D2;\n",
              "      height: 32px;\n",
              "      padding: 0 0 0 0;\n",
              "      width: 32px;\n",
              "    }\n",
              "\n",
              "    .colab-df-convert:hover {\n",
              "      background-color: #E2EBFA;\n",
              "      box-shadow: 0px 1px 2px rgba(60, 64, 67, 0.3), 0px 1px 3px 1px rgba(60, 64, 67, 0.15);\n",
              "      fill: #174EA6;\n",
              "    }\n",
              "\n",
              "    .colab-df-buttons div {\n",
              "      margin-bottom: 4px;\n",
              "    }\n",
              "\n",
              "    [theme=dark] .colab-df-convert {\n",
              "      background-color: #3B4455;\n",
              "      fill: #D2E3FC;\n",
              "    }\n",
              "\n",
              "    [theme=dark] .colab-df-convert:hover {\n",
              "      background-color: #434B5C;\n",
              "      box-shadow: 0px 1px 3px 1px rgba(0, 0, 0, 0.15);\n",
              "      filter: drop-shadow(0px 1px 2px rgba(0, 0, 0, 0.3));\n",
              "      fill: #FFFFFF;\n",
              "    }\n",
              "  </style>\n",
              "\n",
              "    <script>\n",
              "      const buttonEl =\n",
              "        document.querySelector('#df-64e9643c-9b55-4355-956c-76c3ca9ac2a2 button.colab-df-convert');\n",
              "      buttonEl.style.display =\n",
              "        google.colab.kernel.accessAllowed ? 'block' : 'none';\n",
              "\n",
              "      async function convertToInteractive(key) {\n",
              "        const element = document.querySelector('#df-64e9643c-9b55-4355-956c-76c3ca9ac2a2');\n",
              "        const dataTable =\n",
              "          await google.colab.kernel.invokeFunction('convertToInteractive',\n",
              "                                                    [key], {});\n",
              "        if (!dataTable) return;\n",
              "\n",
              "        const docLinkHtml = 'Like what you see? Visit the ' +\n",
              "          '<a target=\"_blank\" href=https://colab.research.google.com/notebooks/data_table.ipynb>data table notebook</a>'\n",
              "          + ' to learn more about interactive tables.';\n",
              "        element.innerHTML = '';\n",
              "        dataTable['output_type'] = 'display_data';\n",
              "        await google.colab.output.renderOutput(dataTable, element);\n",
              "        const docLink = document.createElement('div');\n",
              "        docLink.innerHTML = docLinkHtml;\n",
              "        element.appendChild(docLink);\n",
              "      }\n",
              "    </script>\n",
              "  </div>\n",
              "\n",
              "\n",
              "<div id=\"df-b550d77b-359e-47f5-ba08-1be6dc4c9cbb\">\n",
              "  <button class=\"colab-df-quickchart\" onclick=\"quickchart('df-b550d77b-359e-47f5-ba08-1be6dc4c9cbb')\"\n",
              "            title=\"Suggest charts\"\n",
              "            style=\"display:none;\">\n",
              "\n",
              "<svg xmlns=\"http://www.w3.org/2000/svg\" height=\"24px\"viewBox=\"0 0 24 24\"\n",
              "     width=\"24px\">\n",
              "    <g>\n",
              "        <path d=\"M19 3H5c-1.1 0-2 .9-2 2v14c0 1.1.9 2 2 2h14c1.1 0 2-.9 2-2V5c0-1.1-.9-2-2-2zM9 17H7v-7h2v7zm4 0h-2V7h2v10zm4 0h-2v-4h2v4z\"/>\n",
              "    </g>\n",
              "</svg>\n",
              "  </button>\n",
              "\n",
              "<style>\n",
              "  .colab-df-quickchart {\n",
              "      --bg-color: #E8F0FE;\n",
              "      --fill-color: #1967D2;\n",
              "      --hover-bg-color: #E2EBFA;\n",
              "      --hover-fill-color: #174EA6;\n",
              "      --disabled-fill-color: #AAA;\n",
              "      --disabled-bg-color: #DDD;\n",
              "  }\n",
              "\n",
              "  [theme=dark] .colab-df-quickchart {\n",
              "      --bg-color: #3B4455;\n",
              "      --fill-color: #D2E3FC;\n",
              "      --hover-bg-color: #434B5C;\n",
              "      --hover-fill-color: #FFFFFF;\n",
              "      --disabled-bg-color: #3B4455;\n",
              "      --disabled-fill-color: #666;\n",
              "  }\n",
              "\n",
              "  .colab-df-quickchart {\n",
              "    background-color: var(--bg-color);\n",
              "    border: none;\n",
              "    border-radius: 50%;\n",
              "    cursor: pointer;\n",
              "    display: none;\n",
              "    fill: var(--fill-color);\n",
              "    height: 32px;\n",
              "    padding: 0;\n",
              "    width: 32px;\n",
              "  }\n",
              "\n",
              "  .colab-df-quickchart:hover {\n",
              "    background-color: var(--hover-bg-color);\n",
              "    box-shadow: 0 1px 2px rgba(60, 64, 67, 0.3), 0 1px 3px 1px rgba(60, 64, 67, 0.15);\n",
              "    fill: var(--button-hover-fill-color);\n",
              "  }\n",
              "\n",
              "  .colab-df-quickchart-complete:disabled,\n",
              "  .colab-df-quickchart-complete:disabled:hover {\n",
              "    background-color: var(--disabled-bg-color);\n",
              "    fill: var(--disabled-fill-color);\n",
              "    box-shadow: none;\n",
              "  }\n",
              "\n",
              "  .colab-df-spinner {\n",
              "    border: 2px solid var(--fill-color);\n",
              "    border-color: transparent;\n",
              "    border-bottom-color: var(--fill-color);\n",
              "    animation:\n",
              "      spin 1s steps(1) infinite;\n",
              "  }\n",
              "\n",
              "  @keyframes spin {\n",
              "    0% {\n",
              "      border-color: transparent;\n",
              "      border-bottom-color: var(--fill-color);\n",
              "      border-left-color: var(--fill-color);\n",
              "    }\n",
              "    20% {\n",
              "      border-color: transparent;\n",
              "      border-left-color: var(--fill-color);\n",
              "      border-top-color: var(--fill-color);\n",
              "    }\n",
              "    30% {\n",
              "      border-color: transparent;\n",
              "      border-left-color: var(--fill-color);\n",
              "      border-top-color: var(--fill-color);\n",
              "      border-right-color: var(--fill-color);\n",
              "    }\n",
              "    40% {\n",
              "      border-color: transparent;\n",
              "      border-right-color: var(--fill-color);\n",
              "      border-top-color: var(--fill-color);\n",
              "    }\n",
              "    60% {\n",
              "      border-color: transparent;\n",
              "      border-right-color: var(--fill-color);\n",
              "    }\n",
              "    80% {\n",
              "      border-color: transparent;\n",
              "      border-right-color: var(--fill-color);\n",
              "      border-bottom-color: var(--fill-color);\n",
              "    }\n",
              "    90% {\n",
              "      border-color: transparent;\n",
              "      border-bottom-color: var(--fill-color);\n",
              "    }\n",
              "  }\n",
              "</style>\n",
              "\n",
              "  <script>\n",
              "    async function quickchart(key) {\n",
              "      const quickchartButtonEl =\n",
              "        document.querySelector('#' + key + ' button');\n",
              "      quickchartButtonEl.disabled = true;  // To prevent multiple clicks.\n",
              "      quickchartButtonEl.classList.add('colab-df-spinner');\n",
              "      try {\n",
              "        const charts = await google.colab.kernel.invokeFunction(\n",
              "            'suggestCharts', [key], {});\n",
              "      } catch (error) {\n",
              "        console.error('Error during call to suggestCharts:', error);\n",
              "      }\n",
              "      quickchartButtonEl.classList.remove('colab-df-spinner');\n",
              "      quickchartButtonEl.classList.add('colab-df-quickchart-complete');\n",
              "    }\n",
              "    (() => {\n",
              "      let quickchartButtonEl =\n",
              "        document.querySelector('#df-b550d77b-359e-47f5-ba08-1be6dc4c9cbb button');\n",
              "      quickchartButtonEl.style.display =\n",
              "        google.colab.kernel.accessAllowed ? 'block' : 'none';\n",
              "    })();\n",
              "  </script>\n",
              "</div>\n",
              "    </div>\n",
              "  </div>\n"
            ],
            "text/plain": [
              "                 smiles     gap        A        B      mu  alpha          u0  \\\n",
              "0      OC1CC2(CC2)CC1=O  0.2229  3.19334  1.22630  2.7195  75.40 -423.044181   \n",
              "1        C1CC1NC2=NCCO2  0.2788  4.92517  0.92431  1.3423  77.99 -419.210684   \n",
              "2       C#CC12CC1C1OC21  0.2499  4.99590  1.69319  1.4352  68.32 -345.287896   \n",
              "3          CC1OCOCC1C#C  0.3013  2.07981  1.71184  1.8563  76.89 -422.996522   \n",
              "4       N=C1OC2C1CCC2=O  0.2058  3.22781  1.45953  1.8143  69.64 -437.911449   \n",
              "...                 ...     ...      ...      ...     ...    ...         ...   \n",
              "19995   CC12C3COC1OCC23  0.3306  2.25194  1.97852  2.7998  73.16 -423.030803   \n",
              "19996      c1c(ncnc1F)F  0.2447  4.22771  1.81684  0.9724  50.29 -462.771586   \n",
              "19997  O=C1CC2NC2C2CN12  0.2524  2.47194  2.08198  4.9902  71.97 -417.993679   \n",
              "19998  CC#CC(O)C1(C)CC1  0.2877  2.63754  0.93810  1.9889  87.48 -387.053735   \n",
              "19999   CCCOC12CC(C1)C2  0.3385  4.69478  0.75544  0.9542  87.43 -388.243732   \n",
              "\n",
              "           cv  MaxAbsEStateIndex  MinAbsEStateIndex  ...  n4HRing  n6aRing  \\\n",
              "0      32.436          10.779699           0.062500  ...      0.0      0.0   \n",
              "1      31.158           5.142639           0.668380  ...      0.0      0.0   \n",
              "2      26.347           5.296806           0.268519  ...      0.0      0.0   \n",
              "3      33.086           5.183657           0.137731  ...      0.0      0.0   \n",
              "4      27.818          10.759630           0.150463  ...      1.0      0.0   \n",
              "...       ...                ...                ...  ...      ...      ...   \n",
              "19995  29.065           5.386574           0.159722  ...      0.0      0.0   \n",
              "19996  20.489          11.776389           0.611111  ...      0.0      1.0   \n",
              "19997  27.702          10.958750           0.353009  ...      0.0      0.0   \n",
              "19998  38.899           9.274583           0.141875  ...      0.0      0.0   \n",
              "19999  34.937           5.680556           0.417338  ...      0.0      0.0   \n",
              "\n",
              "       n5FRing  n6FRing  n7FRing  n8FRing  n9FRing      GGI4  Radius  \\\n",
              "0          0.0      0.0      0.0      0.0      0.0  0.250000     3.0   \n",
              "1          0.0      0.0      0.0      0.0      0.0  0.125000     3.0   \n",
              "2          0.0      1.0      0.0      0.0      0.0  0.236111     2.0   \n",
              "3          0.0      0.0      0.0      0.0      0.0  0.262222     3.0   \n",
              "4          0.0      0.0      1.0      0.0      0.0  0.316111     3.0   \n",
              "...        ...      ...      ...      ...      ...       ...     ...   \n",
              "19995      0.0      0.0      0.0      1.0      0.0  0.000000     2.0   \n",
              "19996      0.0      0.0      0.0      0.0      0.0  0.222222     3.0   \n",
              "19997      0.0      0.0      0.0      1.0      0.0  0.236111     3.0   \n",
              "19998      0.0      0.0      0.0      0.0      0.0  0.205000     3.0   \n",
              "19999      1.0      0.0      0.0      0.0      0.0  0.302222     3.0   \n",
              "\n",
              "       TopoShapeIndex  \n",
              "0            0.333333  \n",
              "1            0.666667  \n",
              "2            1.000000  \n",
              "3            0.666667  \n",
              "4            0.666667  \n",
              "...               ...  \n",
              "19995        0.500000  \n",
              "19996        0.333333  \n",
              "19997        0.333333  \n",
              "19998        0.666667  \n",
              "19999        1.000000  \n",
              "\n",
              "[19616 rows x 206 columns]"
            ]
          },
          "execution_count": 64,
          "metadata": {},
          "output_type": "execute_result"
        }
      ],
      "source": [
        "data_clean"
      ]
    },
    {
      "cell_type": "code",
      "execution_count": null,
      "id": "hLg0eG5B2Jdn",
      "metadata": {
        "id": "hLg0eG5B2Jdn"
      },
      "outputs": [],
      "source": [
        "data_clean.to_csv('/content/drive/MyDrive/Big data/data_clean.csv', index = False)"
      ]
    }
  ],
  "metadata": {
    "colab": {
      "provenance": [],
      "include_colab_link": true
    },
    "kernelspec": {
      "display_name": "Python 3 (ipykernel)",
      "language": "python",
      "name": "python3"
    },
    "language_info": {
      "codemirror_mode": {
        "name": "ipython",
        "version": 3
      },
      "file_extension": ".py",
      "mimetype": "text/x-python",
      "name": "python",
      "nbconvert_exporter": "python",
      "pygments_lexer": "ipython3",
      "version": "3.10.12"
    }
  },
  "nbformat": 4,
  "nbformat_minor": 5
}